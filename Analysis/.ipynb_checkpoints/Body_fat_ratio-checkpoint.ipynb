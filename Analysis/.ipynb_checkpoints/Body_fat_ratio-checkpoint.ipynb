{
 "cells": [
  {
   "cell_type": "markdown",
   "metadata": {},
   "source": [
    "# Exploration"
   ]
  },
  {
   "cell_type": "code",
   "execution_count": 1,
   "metadata": {},
   "outputs": [],
   "source": [
    "import pandas as pd"
   ]
  },
  {
   "cell_type": "code",
   "execution_count": 2,
   "metadata": {},
   "outputs": [],
   "source": [
    "df = pd.read_csv('data/data_1.csv')"
   ]
  },
  {
   "cell_type": "code",
   "execution_count": 3,
   "metadata": {},
   "outputs": [
    {
     "data": {
      "text/plain": [
       "Index(['Subject', 'Density', '%Body Fat', 'Age', 'Weight', 'Height', 'Neck',\n",
       "       'Chest', 'Abdomen', 'Hip', 'Thigh', 'Knee', 'Ankle', 'Biceps',\n",
       "       'Forearm', 'Wrist'],\n",
       "      dtype='object')"
      ]
     },
     "execution_count": 3,
     "metadata": {},
     "output_type": "execute_result"
    }
   ],
   "source": [
    "df.columns"
   ]
  },
  {
   "cell_type": "code",
   "execution_count": 4,
   "metadata": {},
   "outputs": [
    {
     "data": {
      "text/html": [
       "<div>\n",
       "<style scoped>\n",
       "    .dataframe tbody tr th:only-of-type {\n",
       "        vertical-align: middle;\n",
       "    }\n",
       "\n",
       "    .dataframe tbody tr th {\n",
       "        vertical-align: top;\n",
       "    }\n",
       "\n",
       "    .dataframe thead th {\n",
       "        text-align: right;\n",
       "    }\n",
       "</style>\n",
       "<table border=\"1\" class=\"dataframe\">\n",
       "  <thead>\n",
       "    <tr style=\"text-align: right;\">\n",
       "      <th></th>\n",
       "      <th>Subject</th>\n",
       "      <th>Density</th>\n",
       "      <th>%Body Fat</th>\n",
       "      <th>Age</th>\n",
       "      <th>Weight</th>\n",
       "      <th>Height</th>\n",
       "      <th>Neck</th>\n",
       "      <th>Chest</th>\n",
       "      <th>Abdomen</th>\n",
       "      <th>Hip</th>\n",
       "      <th>Thigh</th>\n",
       "      <th>Knee</th>\n",
       "      <th>Ankle</th>\n",
       "      <th>Biceps</th>\n",
       "      <th>Forearm</th>\n",
       "      <th>Wrist</th>\n",
       "    </tr>\n",
       "  </thead>\n",
       "  <tbody>\n",
       "    <tr>\n",
       "      <th>0</th>\n",
       "      <td>1</td>\n",
       "      <td>1.0708</td>\n",
       "      <td>12.3</td>\n",
       "      <td>23</td>\n",
       "      <td>154.25</td>\n",
       "      <td>67.75</td>\n",
       "      <td>36.2</td>\n",
       "      <td>93.1</td>\n",
       "      <td>85.2</td>\n",
       "      <td>94.5</td>\n",
       "      <td>59.0</td>\n",
       "      <td>37.3</td>\n",
       "      <td>21.9</td>\n",
       "      <td>32.0</td>\n",
       "      <td>27.4</td>\n",
       "      <td>17.1</td>\n",
       "    </tr>\n",
       "    <tr>\n",
       "      <th>1</th>\n",
       "      <td>2</td>\n",
       "      <td>1.0853</td>\n",
       "      <td>6.1</td>\n",
       "      <td>22</td>\n",
       "      <td>173.25</td>\n",
       "      <td>72.25</td>\n",
       "      <td>38.5</td>\n",
       "      <td>93.6</td>\n",
       "      <td>83.0</td>\n",
       "      <td>98.7</td>\n",
       "      <td>58.7</td>\n",
       "      <td>37.3</td>\n",
       "      <td>23.4</td>\n",
       "      <td>30.5</td>\n",
       "      <td>28.9</td>\n",
       "      <td>18.2</td>\n",
       "    </tr>\n",
       "    <tr>\n",
       "      <th>2</th>\n",
       "      <td>3</td>\n",
       "      <td>1.0414</td>\n",
       "      <td>25.3</td>\n",
       "      <td>22</td>\n",
       "      <td>154.00</td>\n",
       "      <td>66.25</td>\n",
       "      <td>34.0</td>\n",
       "      <td>95.8</td>\n",
       "      <td>87.9</td>\n",
       "      <td>99.2</td>\n",
       "      <td>59.6</td>\n",
       "      <td>38.9</td>\n",
       "      <td>24.0</td>\n",
       "      <td>28.8</td>\n",
       "      <td>25.2</td>\n",
       "      <td>16.6</td>\n",
       "    </tr>\n",
       "    <tr>\n",
       "      <th>3</th>\n",
       "      <td>4</td>\n",
       "      <td>1.0751</td>\n",
       "      <td>10.4</td>\n",
       "      <td>26</td>\n",
       "      <td>184.75</td>\n",
       "      <td>72.25</td>\n",
       "      <td>37.4</td>\n",
       "      <td>101.8</td>\n",
       "      <td>86.4</td>\n",
       "      <td>101.2</td>\n",
       "      <td>60.1</td>\n",
       "      <td>37.3</td>\n",
       "      <td>22.8</td>\n",
       "      <td>32.4</td>\n",
       "      <td>29.4</td>\n",
       "      <td>18.2</td>\n",
       "    </tr>\n",
       "    <tr>\n",
       "      <th>4</th>\n",
       "      <td>5</td>\n",
       "      <td>1.0340</td>\n",
       "      <td>28.7</td>\n",
       "      <td>24</td>\n",
       "      <td>184.25</td>\n",
       "      <td>71.25</td>\n",
       "      <td>34.4</td>\n",
       "      <td>97.3</td>\n",
       "      <td>100.0</td>\n",
       "      <td>101.9</td>\n",
       "      <td>63.2</td>\n",
       "      <td>42.2</td>\n",
       "      <td>24.0</td>\n",
       "      <td>32.2</td>\n",
       "      <td>27.7</td>\n",
       "      <td>17.7</td>\n",
       "    </tr>\n",
       "  </tbody>\n",
       "</table>\n",
       "</div>"
      ],
      "text/plain": [
       "   Subject  Density  %Body Fat  Age  Weight  Height  Neck  Chest  Abdomen  \\\n",
       "0        1   1.0708       12.3   23  154.25   67.75  36.2   93.1     85.2   \n",
       "1        2   1.0853        6.1   22  173.25   72.25  38.5   93.6     83.0   \n",
       "2        3   1.0414       25.3   22  154.00   66.25  34.0   95.8     87.9   \n",
       "3        4   1.0751       10.4   26  184.75   72.25  37.4  101.8     86.4   \n",
       "4        5   1.0340       28.7   24  184.25   71.25  34.4   97.3    100.0   \n",
       "\n",
       "     Hip  Thigh  Knee  Ankle  Biceps  Forearm  Wrist  \n",
       "0   94.5   59.0  37.3   21.9    32.0     27.4   17.1  \n",
       "1   98.7   58.7  37.3   23.4    30.5     28.9   18.2  \n",
       "2   99.2   59.6  38.9   24.0    28.8     25.2   16.6  \n",
       "3  101.2   60.1  37.3   22.8    32.4     29.4   18.2  \n",
       "4  101.9   63.2  42.2   24.0    32.2     27.7   17.7  "
      ]
     },
     "execution_count": 4,
     "metadata": {},
     "output_type": "execute_result"
    }
   ],
   "source": [
    "df.head()"
   ]
  },
  {
   "cell_type": "code",
   "execution_count": 5,
   "metadata": {},
   "outputs": [
    {
     "data": {
      "text/html": [
       "<div>\n",
       "<style scoped>\n",
       "    .dataframe tbody tr th:only-of-type {\n",
       "        vertical-align: middle;\n",
       "    }\n",
       "\n",
       "    .dataframe tbody tr th {\n",
       "        vertical-align: top;\n",
       "    }\n",
       "\n",
       "    .dataframe thead th {\n",
       "        text-align: right;\n",
       "    }\n",
       "</style>\n",
       "<table border=\"1\" class=\"dataframe\">\n",
       "  <thead>\n",
       "    <tr style=\"text-align: right;\">\n",
       "      <th></th>\n",
       "      <th>Subject</th>\n",
       "      <th>Density</th>\n",
       "      <th>%Body Fat</th>\n",
       "      <th>Age</th>\n",
       "      <th>Weight</th>\n",
       "      <th>Height</th>\n",
       "      <th>Neck</th>\n",
       "      <th>Chest</th>\n",
       "      <th>Abdomen</th>\n",
       "      <th>Hip</th>\n",
       "      <th>Thigh</th>\n",
       "      <th>Knee</th>\n",
       "      <th>Ankle</th>\n",
       "      <th>Biceps</th>\n",
       "      <th>Forearm</th>\n",
       "      <th>Wrist</th>\n",
       "    </tr>\n",
       "  </thead>\n",
       "  <tbody>\n",
       "    <tr>\n",
       "      <th>Subject</th>\n",
       "      <td>1.000000</td>\n",
       "      <td>-0.091988</td>\n",
       "      <td>0.097804</td>\n",
       "      <td>0.320738</td>\n",
       "      <td>0.024591</td>\n",
       "      <td>-0.013174</td>\n",
       "      <td>0.061474</td>\n",
       "      <td>0.106774</td>\n",
       "      <td>0.107825</td>\n",
       "      <td>-0.029074</td>\n",
       "      <td>-0.077099</td>\n",
       "      <td>0.029607</td>\n",
       "      <td>-0.039218</td>\n",
       "      <td>-0.015112</td>\n",
       "      <td>-0.005178</td>\n",
       "      <td>0.052308</td>\n",
       "    </tr>\n",
       "    <tr>\n",
       "      <th>Density</th>\n",
       "      <td>-0.091988</td>\n",
       "      <td>1.000000</td>\n",
       "      <td>-0.997003</td>\n",
       "      <td>-0.275342</td>\n",
       "      <td>-0.609105</td>\n",
       "      <td>0.018081</td>\n",
       "      <td>-0.483295</td>\n",
       "      <td>-0.696970</td>\n",
       "      <td>-0.808699</td>\n",
       "      <td>-0.623181</td>\n",
       "      <td>-0.566797</td>\n",
       "      <td>-0.505633</td>\n",
       "      <td>-0.318061</td>\n",
       "      <td>-0.494681</td>\n",
       "      <td>-0.359951</td>\n",
       "      <td>-0.335852</td>\n",
       "    </tr>\n",
       "    <tr>\n",
       "      <th>%Body Fat</th>\n",
       "      <td>0.097804</td>\n",
       "      <td>-0.997003</td>\n",
       "      <td>1.000000</td>\n",
       "      <td>0.276259</td>\n",
       "      <td>0.610676</td>\n",
       "      <td>-0.025229</td>\n",
       "      <td>0.486798</td>\n",
       "      <td>0.699595</td>\n",
       "      <td>0.811838</td>\n",
       "      <td>0.625624</td>\n",
       "      <td>0.567449</td>\n",
       "      <td>0.502145</td>\n",
       "      <td>0.318188</td>\n",
       "      <td>0.496172</td>\n",
       "      <td>0.359573</td>\n",
       "      <td>0.332994</td>\n",
       "    </tr>\n",
       "    <tr>\n",
       "      <th>Age</th>\n",
       "      <td>0.320738</td>\n",
       "      <td>-0.275342</td>\n",
       "      <td>0.276259</td>\n",
       "      <td>1.000000</td>\n",
       "      <td>-0.025821</td>\n",
       "      <td>-0.249817</td>\n",
       "      <td>0.101919</td>\n",
       "      <td>0.160130</td>\n",
       "      <td>0.215244</td>\n",
       "      <td>-0.058415</td>\n",
       "      <td>-0.198478</td>\n",
       "      <td>-0.007356</td>\n",
       "      <td>-0.160205</td>\n",
       "      <td>-0.041350</td>\n",
       "      <td>-0.096394</td>\n",
       "      <td>0.180045</td>\n",
       "    </tr>\n",
       "    <tr>\n",
       "      <th>Weight</th>\n",
       "      <td>0.024591</td>\n",
       "      <td>-0.609105</td>\n",
       "      <td>0.610676</td>\n",
       "      <td>-0.025821</td>\n",
       "      <td>1.000000</td>\n",
       "      <td>0.488332</td>\n",
       "      <td>0.829905</td>\n",
       "      <td>0.894186</td>\n",
       "      <td>0.887962</td>\n",
       "      <td>0.941598</td>\n",
       "      <td>0.872500</td>\n",
       "      <td>0.853726</td>\n",
       "      <td>0.751475</td>\n",
       "      <td>0.802219</td>\n",
       "      <td>0.629251</td>\n",
       "      <td>0.733894</td>\n",
       "    </tr>\n",
       "    <tr>\n",
       "      <th>Height</th>\n",
       "      <td>-0.013174</td>\n",
       "      <td>0.018081</td>\n",
       "      <td>-0.025229</td>\n",
       "      <td>-0.249817</td>\n",
       "      <td>0.488332</td>\n",
       "      <td>1.000000</td>\n",
       "      <td>0.322541</td>\n",
       "      <td>0.228452</td>\n",
       "      <td>0.191326</td>\n",
       "      <td>0.373496</td>\n",
       "      <td>0.339037</td>\n",
       "      <td>0.504720</td>\n",
       "      <td>0.471075</td>\n",
       "      <td>0.319275</td>\n",
       "      <td>0.322613</td>\n",
       "      <td>0.407759</td>\n",
       "    </tr>\n",
       "    <tr>\n",
       "      <th>Neck</th>\n",
       "      <td>0.061474</td>\n",
       "      <td>-0.483295</td>\n",
       "      <td>0.486798</td>\n",
       "      <td>0.101919</td>\n",
       "      <td>0.829905</td>\n",
       "      <td>0.322541</td>\n",
       "      <td>1.000000</td>\n",
       "      <td>0.783662</td>\n",
       "      <td>0.752531</td>\n",
       "      <td>0.734531</td>\n",
       "      <td>0.699429</td>\n",
       "      <td>0.670696</td>\n",
       "      <td>0.586399</td>\n",
       "      <td>0.732844</td>\n",
       "      <td>0.622603</td>\n",
       "      <td>0.747927</td>\n",
       "    </tr>\n",
       "    <tr>\n",
       "      <th>Chest</th>\n",
       "      <td>0.106774</td>\n",
       "      <td>-0.696970</td>\n",
       "      <td>0.699595</td>\n",
       "      <td>0.160130</td>\n",
       "      <td>0.894186</td>\n",
       "      <td>0.228452</td>\n",
       "      <td>0.783662</td>\n",
       "      <td>1.000000</td>\n",
       "      <td>0.914920</td>\n",
       "      <td>0.831216</td>\n",
       "      <td>0.736865</td>\n",
       "      <td>0.716103</td>\n",
       "      <td>0.591921</td>\n",
       "      <td>0.732163</td>\n",
       "      <td>0.579004</td>\n",
       "      <td>0.656532</td>\n",
       "    </tr>\n",
       "    <tr>\n",
       "      <th>Abdomen</th>\n",
       "      <td>0.107825</td>\n",
       "      <td>-0.808699</td>\n",
       "      <td>0.811838</td>\n",
       "      <td>0.215244</td>\n",
       "      <td>0.887962</td>\n",
       "      <td>0.191326</td>\n",
       "      <td>0.752531</td>\n",
       "      <td>0.914920</td>\n",
       "      <td>1.000000</td>\n",
       "      <td>0.875992</td>\n",
       "      <td>0.773941</td>\n",
       "      <td>0.734017</td>\n",
       "      <td>0.565438</td>\n",
       "      <td>0.688819</td>\n",
       "      <td>0.501648</td>\n",
       "      <td>0.614555</td>\n",
       "    </tr>\n",
       "    <tr>\n",
       "      <th>Hip</th>\n",
       "      <td>-0.029074</td>\n",
       "      <td>-0.623181</td>\n",
       "      <td>0.625624</td>\n",
       "      <td>-0.058415</td>\n",
       "      <td>0.941598</td>\n",
       "      <td>0.373496</td>\n",
       "      <td>0.734531</td>\n",
       "      <td>0.831216</td>\n",
       "      <td>0.875992</td>\n",
       "      <td>1.000000</td>\n",
       "      <td>0.898460</td>\n",
       "      <td>0.827038</td>\n",
       "      <td>0.689969</td>\n",
       "      <td>0.739149</td>\n",
       "      <td>0.544596</td>\n",
       "      <td>0.636138</td>\n",
       "    </tr>\n",
       "    <tr>\n",
       "      <th>Thigh</th>\n",
       "      <td>-0.077099</td>\n",
       "      <td>-0.566797</td>\n",
       "      <td>0.567449</td>\n",
       "      <td>-0.198478</td>\n",
       "      <td>0.872500</td>\n",
       "      <td>0.339037</td>\n",
       "      <td>0.699429</td>\n",
       "      <td>0.736865</td>\n",
       "      <td>0.773941</td>\n",
       "      <td>0.898460</td>\n",
       "      <td>1.000000</td>\n",
       "      <td>0.809417</td>\n",
       "      <td>0.691544</td>\n",
       "      <td>0.761500</td>\n",
       "      <td>0.568978</td>\n",
       "      <td>0.576672</td>\n",
       "    </tr>\n",
       "    <tr>\n",
       "      <th>Knee</th>\n",
       "      <td>0.029607</td>\n",
       "      <td>-0.505633</td>\n",
       "      <td>0.502145</td>\n",
       "      <td>-0.007356</td>\n",
       "      <td>0.853726</td>\n",
       "      <td>0.504720</td>\n",
       "      <td>0.670696</td>\n",
       "      <td>0.716103</td>\n",
       "      <td>0.734017</td>\n",
       "      <td>0.827038</td>\n",
       "      <td>0.809417</td>\n",
       "      <td>1.000000</td>\n",
       "      <td>0.750893</td>\n",
       "      <td>0.684826</td>\n",
       "      <td>0.554977</td>\n",
       "      <td>0.658535</td>\n",
       "    </tr>\n",
       "    <tr>\n",
       "      <th>Ankle</th>\n",
       "      <td>-0.039218</td>\n",
       "      <td>-0.318061</td>\n",
       "      <td>0.318188</td>\n",
       "      <td>-0.160205</td>\n",
       "      <td>0.751475</td>\n",
       "      <td>0.471075</td>\n",
       "      <td>0.586399</td>\n",
       "      <td>0.591921</td>\n",
       "      <td>0.565438</td>\n",
       "      <td>0.689969</td>\n",
       "      <td>0.691544</td>\n",
       "      <td>0.750893</td>\n",
       "      <td>1.000000</td>\n",
       "      <td>0.583446</td>\n",
       "      <td>0.534066</td>\n",
       "      <td>0.687236</td>\n",
       "    </tr>\n",
       "    <tr>\n",
       "      <th>Biceps</th>\n",
       "      <td>-0.015112</td>\n",
       "      <td>-0.494681</td>\n",
       "      <td>0.496172</td>\n",
       "      <td>-0.041350</td>\n",
       "      <td>0.802219</td>\n",
       "      <td>0.319275</td>\n",
       "      <td>0.732844</td>\n",
       "      <td>0.732163</td>\n",
       "      <td>0.688819</td>\n",
       "      <td>0.739149</td>\n",
       "      <td>0.761500</td>\n",
       "      <td>0.684826</td>\n",
       "      <td>0.583446</td>\n",
       "      <td>1.000000</td>\n",
       "      <td>0.679410</td>\n",
       "      <td>0.645833</td>\n",
       "    </tr>\n",
       "    <tr>\n",
       "      <th>Forearm</th>\n",
       "      <td>-0.005178</td>\n",
       "      <td>-0.359951</td>\n",
       "      <td>0.359573</td>\n",
       "      <td>-0.096394</td>\n",
       "      <td>0.629251</td>\n",
       "      <td>0.322613</td>\n",
       "      <td>0.622603</td>\n",
       "      <td>0.579004</td>\n",
       "      <td>0.501648</td>\n",
       "      <td>0.544596</td>\n",
       "      <td>0.568978</td>\n",
       "      <td>0.554977</td>\n",
       "      <td>0.534066</td>\n",
       "      <td>0.679410</td>\n",
       "      <td>1.000000</td>\n",
       "      <td>0.589367</td>\n",
       "    </tr>\n",
       "    <tr>\n",
       "      <th>Wrist</th>\n",
       "      <td>0.052308</td>\n",
       "      <td>-0.335852</td>\n",
       "      <td>0.332994</td>\n",
       "      <td>0.180045</td>\n",
       "      <td>0.733894</td>\n",
       "      <td>0.407759</td>\n",
       "      <td>0.747927</td>\n",
       "      <td>0.656532</td>\n",
       "      <td>0.614555</td>\n",
       "      <td>0.636138</td>\n",
       "      <td>0.576672</td>\n",
       "      <td>0.658535</td>\n",
       "      <td>0.687236</td>\n",
       "      <td>0.645833</td>\n",
       "      <td>0.589367</td>\n",
       "      <td>1.000000</td>\n",
       "    </tr>\n",
       "  </tbody>\n",
       "</table>\n",
       "</div>"
      ],
      "text/plain": [
       "            Subject   Density  %Body Fat       Age    Weight    Height  \\\n",
       "Subject    1.000000 -0.091988   0.097804  0.320738  0.024591 -0.013174   \n",
       "Density   -0.091988  1.000000  -0.997003 -0.275342 -0.609105  0.018081   \n",
       "%Body Fat  0.097804 -0.997003   1.000000  0.276259  0.610676 -0.025229   \n",
       "Age        0.320738 -0.275342   0.276259  1.000000 -0.025821 -0.249817   \n",
       "Weight     0.024591 -0.609105   0.610676 -0.025821  1.000000  0.488332   \n",
       "Height    -0.013174  0.018081  -0.025229 -0.249817  0.488332  1.000000   \n",
       "Neck       0.061474 -0.483295   0.486798  0.101919  0.829905  0.322541   \n",
       "Chest      0.106774 -0.696970   0.699595  0.160130  0.894186  0.228452   \n",
       "Abdomen    0.107825 -0.808699   0.811838  0.215244  0.887962  0.191326   \n",
       "Hip       -0.029074 -0.623181   0.625624 -0.058415  0.941598  0.373496   \n",
       "Thigh     -0.077099 -0.566797   0.567449 -0.198478  0.872500  0.339037   \n",
       "Knee       0.029607 -0.505633   0.502145 -0.007356  0.853726  0.504720   \n",
       "Ankle     -0.039218 -0.318061   0.318188 -0.160205  0.751475  0.471075   \n",
       "Biceps    -0.015112 -0.494681   0.496172 -0.041350  0.802219  0.319275   \n",
       "Forearm   -0.005178 -0.359951   0.359573 -0.096394  0.629251  0.322613   \n",
       "Wrist      0.052308 -0.335852   0.332994  0.180045  0.733894  0.407759   \n",
       "\n",
       "               Neck     Chest   Abdomen       Hip     Thigh      Knee  \\\n",
       "Subject    0.061474  0.106774  0.107825 -0.029074 -0.077099  0.029607   \n",
       "Density   -0.483295 -0.696970 -0.808699 -0.623181 -0.566797 -0.505633   \n",
       "%Body Fat  0.486798  0.699595  0.811838  0.625624  0.567449  0.502145   \n",
       "Age        0.101919  0.160130  0.215244 -0.058415 -0.198478 -0.007356   \n",
       "Weight     0.829905  0.894186  0.887962  0.941598  0.872500  0.853726   \n",
       "Height     0.322541  0.228452  0.191326  0.373496  0.339037  0.504720   \n",
       "Neck       1.000000  0.783662  0.752531  0.734531  0.699429  0.670696   \n",
       "Chest      0.783662  1.000000  0.914920  0.831216  0.736865  0.716103   \n",
       "Abdomen    0.752531  0.914920  1.000000  0.875992  0.773941  0.734017   \n",
       "Hip        0.734531  0.831216  0.875992  1.000000  0.898460  0.827038   \n",
       "Thigh      0.699429  0.736865  0.773941  0.898460  1.000000  0.809417   \n",
       "Knee       0.670696  0.716103  0.734017  0.827038  0.809417  1.000000   \n",
       "Ankle      0.586399  0.591921  0.565438  0.689969  0.691544  0.750893   \n",
       "Biceps     0.732844  0.732163  0.688819  0.739149  0.761500  0.684826   \n",
       "Forearm    0.622603  0.579004  0.501648  0.544596  0.568978  0.554977   \n",
       "Wrist      0.747927  0.656532  0.614555  0.636138  0.576672  0.658535   \n",
       "\n",
       "              Ankle    Biceps   Forearm     Wrist  \n",
       "Subject   -0.039218 -0.015112 -0.005178  0.052308  \n",
       "Density   -0.318061 -0.494681 -0.359951 -0.335852  \n",
       "%Body Fat  0.318188  0.496172  0.359573  0.332994  \n",
       "Age       -0.160205 -0.041350 -0.096394  0.180045  \n",
       "Weight     0.751475  0.802219  0.629251  0.733894  \n",
       "Height     0.471075  0.319275  0.322613  0.407759  \n",
       "Neck       0.586399  0.732844  0.622603  0.747927  \n",
       "Chest      0.591921  0.732163  0.579004  0.656532  \n",
       "Abdomen    0.565438  0.688819  0.501648  0.614555  \n",
       "Hip        0.689969  0.739149  0.544596  0.636138  \n",
       "Thigh      0.691544  0.761500  0.568978  0.576672  \n",
       "Knee       0.750893  0.684826  0.554977  0.658535  \n",
       "Ankle      1.000000  0.583446  0.534066  0.687236  \n",
       "Biceps     0.583446  1.000000  0.679410  0.645833  \n",
       "Forearm    0.534066  0.679410  1.000000  0.589367  \n",
       "Wrist      0.687236  0.645833  0.589367  1.000000  "
      ]
     },
     "execution_count": 5,
     "metadata": {},
     "output_type": "execute_result"
    }
   ],
   "source": [
    "df.corr()"
   ]
  },
  {
   "cell_type": "markdown",
   "metadata": {},
   "source": [
    "Linear correlation"
   ]
  },
  {
   "cell_type": "code",
   "execution_count": 6,
   "metadata": {},
   "outputs": [],
   "source": [
    "df = df.rename(index=str, columns={\"%Body Fat\": \"Body_Fat\"})"
   ]
  },
  {
   "cell_type": "code",
   "execution_count": 7,
   "metadata": {},
   "outputs": [
    {
     "data": {
      "text/plain": [
       "Density    -0.997003\n",
       "Height     -0.025229\n",
       "Subject     0.097804\n",
       "Age         0.276259\n",
       "Ankle       0.318188\n",
       "Wrist       0.332994\n",
       "Forearm     0.359573\n",
       "Neck        0.486798\n",
       "Biceps      0.496172\n",
       "Knee        0.502145\n",
       "Thigh       0.567449\n",
       "Weight      0.610676\n",
       "Hip         0.625624\n",
       "Chest       0.699595\n",
       "Abdomen     0.811838\n",
       "Body_Fat    1.000000\n",
       "Name: Body_Fat, dtype: float64"
      ]
     },
     "execution_count": 7,
     "metadata": {},
     "output_type": "execute_result"
    }
   ],
   "source": [
    "df.corr()['Body_Fat'].sort_values()"
   ]
  },
  {
   "cell_type": "markdown",
   "metadata": {},
   "source": [
    "Let's graph the correlation "
   ]
  },
  {
   "cell_type": "code",
   "execution_count": 8,
   "metadata": {},
   "outputs": [
    {
     "data": {
      "text/plain": [
       "<function pandas.plotting._misc.scatter_matrix(frame, alpha=0.5, figsize=None, ax=None, grid=False, diagonal='hist', marker='.', density_kwds=None, hist_kwds=None, range_padding=0.05, **kwds)>"
      ]
     },
     "execution_count": 8,
     "metadata": {},
     "output_type": "execute_result"
    }
   ],
   "source": [
    "from pandas.plotting import scatter_matrix\n",
    "scatter_matrix(df, figsize=(24, 20), grid=True, diagonal='kde')\n",
    "scatter_matrix"
   ]
  },
  {
   "cell_type": "markdown",
   "metadata": {},
   "source": [
    "# One-regressor model\n",
    "\n",
    "First, we pick the attribute that has the highest linear correlation coefficient, which is Density"
   ]
  },
  {
   "cell_type": "code",
   "execution_count": 9,
   "metadata": {},
   "outputs": [],
   "source": [
    "from sklearn.linear_model import LinearRegression\n",
    "from sklearn.model_selection import train_test_split\n",
    "import numpy as np"
   ]
  },
  {
   "cell_type": "code",
   "execution_count": 10,
   "metadata": {},
   "outputs": [],
   "source": [
    "y = df['Body_Fat'].values.reshape(-1,1)\n",
    "X = df['Density'].values.reshape(-1,1)"
   ]
  },
  {
   "cell_type": "code",
   "execution_count": 11,
   "metadata": {},
   "outputs": [],
   "source": [
    "reg = LinearRegression().fit(X, y)\n",
    "\n",
    "y_pred = reg.predict(X)"
   ]
  },
  {
   "cell_type": "markdown",
   "metadata": {},
   "source": [
    "Let's see the coefficient of determination $R^2$ of the prediction.\n",
    "\n",
    "The coefficient $R^2$ is defined as $(1 - u/v)$, where $u$ is the residual sum of squares ((y_true - y_pred) ** 2).sum() and $v$ is the total sum of squares ((y_true - y_true.mean()) ** 2).sum(). \n",
    "\n",
    "\n",
    "$R^2(y, \\hat{y}) = 1 - \\frac{\\sum_{i=0}^{n_{\\text{samples}} - 1} (y_i - \\hat{y}_i)^2}{\\sum_{i=0}^{n_\\text{samples} - 1} (y_i - \\bar{y})^2}$\n",
    "\n",
    "where $\\bar{y} =  \\frac{1}{n_{\\text{samples}}} \\sum_{i=0}^{n_{\\text{samples}} - 1} y_i$\n",
    "\n",
    "\n",
    "Higher values are better because it means that more variance is explained by the model\n",
    "\n",
    "The best possible score is 1.0 and it can be negative (because the model can be arbitrarily worse). A constant model that always predicts the expected value of y, disregarding the input features, would get a $R^2$ score of 0.0\n",
    "\n",
    "\n"
   ]
  },
  {
   "cell_type": "markdown",
   "metadata": {},
   "source": [
    "The variance score on the training data is:"
   ]
  },
  {
   "cell_type": "code",
   "execution_count": 12,
   "metadata": {},
   "outputs": [
    {
     "data": {
      "text/plain": [
       "0.9940145116236566"
      ]
     },
     "execution_count": 12,
     "metadata": {},
     "output_type": "execute_result"
    }
   ],
   "source": [
    "reg.score(X, y)"
   ]
  },
  {
   "cell_type": "markdown",
   "metadata": {},
   "source": [
    "The variance score on the test data is:"
   ]
  },
  {
   "cell_type": "code",
   "execution_count": 13,
   "metadata": {},
   "outputs": [],
   "source": [
    "from sklearn.metrics import r2_score, mean_squared_error\n",
    "#r2_score(y_pred, y)"
   ]
  },
  {
   "cell_type": "markdown",
   "metadata": {},
   "source": [
    "Let's see the coefficients"
   ]
  },
  {
   "cell_type": "code",
   "execution_count": 14,
   "metadata": {},
   "outputs": [
    {
     "data": {
      "text/plain": [
       "array([[-444.09174715]])"
      ]
     },
     "execution_count": 14,
     "metadata": {},
     "output_type": "execute_result"
    }
   ],
   "source": [
    "reg.coef_"
   ]
  },
  {
   "cell_type": "markdown",
   "metadata": {},
   "source": [
    "The residual sum of squares(MSE)"
   ]
  },
  {
   "cell_type": "code",
   "execution_count": 15,
   "metadata": {},
   "outputs": [
    {
     "name": "stdout",
     "output_type": "stream",
     "text": [
      "Mean squared error: 0.42\n"
     ]
    }
   ],
   "source": [
    "print(\"Mean squared error: %.2f\"\n",
    "      % mean_squared_error(y, y_pred))"
   ]
  },
  {
   "cell_type": "markdown",
   "metadata": {},
   "source": [
    "Both the variance score and MSE shows the fitness of the model."
   ]
  },
  {
   "cell_type": "code",
   "execution_count": 16,
   "metadata": {},
   "outputs": [
    {
     "data": {
      "image/png": "[encoded data removed]",
      "text/plain": [
       "<Figure size 432x288 with 1 Axes>"
      ]
     },
     "metadata": {},
     "output_type": "display_data"
    }
   ],
   "source": [
    "import matplotlib.pyplot as plt\n",
    "plt.scatter(X, y,  color='black')\n",
    "plt.plot(X, y_pred, color='blue', linewidth=3)\n",
    "\n",
    "plt.xticks(())\n",
    "plt.yticks(())\n",
    "\n",
    "plt.show()"
   ]
  },
  {
   "cell_type": "markdown",
   "metadata": {},
   "source": [
    "# 2-regressor model\n",
    "Because Density and Abdomen have the highestlinear correlation coecient), we pick up them to build the 2-regressor model\n"
   ]
  },
  {
   "cell_type": "code",
   "execution_count": 17,
   "metadata": {},
   "outputs": [],
   "source": [
    "y = df['Body_Fat'].values\n",
    "X = df[['Abdomen', 'Density']].values"
   ]
  },
  {
   "cell_type": "code",
   "execution_count": 18,
   "metadata": {},
   "outputs": [],
   "source": [
    "reg = LinearRegression().fit(X, y)\n",
    "\n",
    "y_pred = reg.predict(X)"
   ]
  },
  {
   "cell_type": "markdown",
   "metadata": {},
   "source": [
    "The variance score on the training data is:"
   ]
  },
  {
   "cell_type": "code",
   "execution_count": 19,
   "metadata": {},
   "outputs": [
    {
     "data": {
      "text/plain": [
       "0.994103951535374"
      ]
     },
     "execution_count": 19,
     "metadata": {},
     "output_type": "execute_result"
    }
   ],
   "source": [
    "reg.score(X, y)"
   ]
  },
  {
   "cell_type": "markdown",
   "metadata": {},
   "source": [
    "The variance score on the test data is:"
   ]
  },
  {
   "cell_type": "markdown",
   "metadata": {},
   "source": [
    "Let's see the coefficients"
   ]
  },
  {
   "cell_type": "code",
   "execution_count": 20,
   "metadata": {},
   "outputs": [
    {
     "data": {
      "text/plain": [
       "array([ 1.24972362e-02, -4.38300293e+02])"
      ]
     },
     "execution_count": 20,
     "metadata": {},
     "output_type": "execute_result"
    }
   ],
   "source": [
    "reg.coef_"
   ]
  },
  {
   "cell_type": "markdown",
   "metadata": {},
   "source": [
    "The residual sum of squares(MSE)"
   ]
  },
  {
   "cell_type": "code",
   "execution_count": 21,
   "metadata": {},
   "outputs": [
    {
     "name": "stdout",
     "output_type": "stream",
     "text": [
      "Mean squared error: 0.41\n"
     ]
    }
   ],
   "source": [
    "print(\"Mean squared error: %.2f\"\n",
    "      % mean_squared_error(y, y_pred))"
   ]
  },
  {
   "cell_type": "markdown",
   "metadata": {},
   "source": [
    "We want to test how well '%Body fat' increases with 'Abdomen' (null model) compared to how well '%Body fat' increases with 'Abdomen' and 'Chest' (alternative model)."
   ]
  },
  {
   "cell_type": "code",
   "execution_count": 22,
   "metadata": {},
   "outputs": [
    {
     "name": "stderr",
     "output_type": "stream",
     "text": [
      "C:\\ProgramData\\Anaconda3\\envs\\allennlp\\lib\\site-packages\\statsmodels\\regression\\mixed_linear_model.py:2066: ConvergenceWarning: The Hessian matrix at the estimated parameter values is not positive definite.\n",
      "  warnings.warn(msg, ConvergenceWarning)\n",
      "C:\\ProgramData\\Anaconda3\\envs\\allennlp\\lib\\site-packages\\statsmodels\\base\\model.py:1092: RuntimeWarning: invalid value encountered in sqrt\n",
      "  bse_ = np.sqrt(np.diag(self.cov_params()))\n",
      "C:\\ProgramData\\Anaconda3\\envs\\allennlp\\lib\\site-packages\\statsmodels\\regression\\mixed_linear_model.py:2066: ConvergenceWarning: The Hessian matrix at the estimated parameter values is not positive definite.\n",
      "  warnings.warn(msg, ConvergenceWarning)\n"
     ]
    },
    {
     "name": "stdout",
     "output_type": "stream",
     "text": [
      "            Mixed Linear Model Regression Results\n",
      "==============================================================\n",
      "Model:               MixedLM   Dependent Variable:   Body_Fat \n",
      "No. Observations:    250       Method:               ML       \n",
      "No. Groups:          250       Scale:                0.2087   \n",
      "Min. group size:     1         Likelihood:           -245.5094\n",
      "Max. group size:     1         Converged:            Yes      \n",
      "Mean group size:     1.0                                      \n",
      "--------------------------------------------------------------\n",
      "           Coef.   Std.Err.     z      P>|z|  [0.025   0.975] \n",
      "--------------------------------------------------------------\n",
      "Intercept  487.841    0.009  54150.205 0.000  487.824  487.859\n",
      "Density   -444.092    0.030 -14719.663 0.000 -444.151 -444.033\n",
      "Group Var    0.209                                            \n",
      "==============================================================\n",
      "\n",
      "           Mixed Linear Model Regression Results\n",
      "============================================================\n",
      "Model:               MixedLM  Dependent Variable:  Body_Fat \n",
      "No. Observations:    250      Method:              ML       \n",
      "No. Groups:          250      Scale:               0.2056   \n",
      "Min. group size:     1        Likelihood:          -243.6275\n",
      "Max. group size:     1        Converged:           Yes      \n",
      "Mean group size:     1.0                                    \n",
      "------------------------------------------------------------\n",
      "           Coef.   Std.Err.    z     P>|z|  [0.025   0.975] \n",
      "------------------------------------------------------------\n",
      "Intercept  480.573    0.364 1321.967 0.000  479.860  481.285\n",
      "Abdomen      0.012    0.003    4.335 0.000    0.007    0.018\n",
      "Density   -438.300    0.597 -734.385 0.000 -439.470 -437.131\n",
      "Group Var    0.206                                          \n",
      "============================================================\n",
      "\n",
      "likelihood_ratio test, p value: 3.76, 0.0524\n"
     ]
    }
   ],
   "source": [
    "import statsmodels.api as sm\n",
    "import statsmodels.formula.api as smf\n",
    "from scipy import stats\n",
    "stats.chisqprob = lambda chisq, df: stats.chi2.sf(chisq, df)\n",
    "import pandas as pd\n",
    "def likelihood_ratiotest_test(llmin, llmax):\n",
    "    likelihood_ratio = 2 * (llmax - llmin)\n",
    "    p = stats.chisqprob(likelihood_ratio, 1) # llmax has 1 dof more than llmin\n",
    "    return likelihood_ratio, p\n",
    "\n",
    "\n",
    "# fit time only to pig weight\n",
    "md = smf.mixedlm(\"Body_Fat ~ Density\", df, groups=df[\"Subject\"])\n",
    "mdf = md.fit(reml=False)\n",
    "print(mdf.summary())\n",
    "llf = mdf.llf\n",
    "\n",
    "# fit time and litter to pig weight\n",
    "mdlitter = smf.mixedlm(\"Body_Fat ~ Abdomen + Density\", df, groups=df[\"Subject\"])\n",
    "mdflitter = mdlitter.fit(reml=False)\n",
    "print(mdflitter.summary())\n",
    "llflitter = mdflitter.llf\n",
    "\n",
    "likelihood_ratio, p = likelihood_ratiotest_test(llf, llflitter)\n",
    "print('likelihood_ratio test, p value: {:.2f}, {:.4f}'.format(likelihood_ratio, p))"
   ]
  },
  {
   "cell_type": "markdown",
   "metadata": {},
   "source": [
    "1. The $R^2$ of 2-regressor model is nearly the same as 1-regressor model.\n",
    "2. The p-value is greater than 0.05. The likelihood ratio test was not statistically significant, the 'Abdomen' feature does not explain its 'Body_Fat' well, so we reject the alternative model because the growth in 'Body_Fat' is sufficiently explained by 'Density'. \n",
    "\n",
    "The 1-regressor fits the data better than 2-regressor model"
   ]
  },
  {
   "cell_type": "code",
   "execution_count": 23,
   "metadata": {},
   "outputs": [],
   "source": [
    "y = df['Body_Fat'].values\n",
    "X = df[['Abdomen', 'Chest','Thigh', 'Hip',  'Knee']].values\n",
    "\n",
    "reg = LinearRegression().fit(X, y)\n",
    "\n",
    "y_pred = reg.predict(X)"
   ]
  },
  {
   "cell_type": "code",
   "execution_count": 24,
   "metadata": {},
   "outputs": [
    {
     "data": {
      "text/plain": [
       "0.7020991383724731"
      ]
     },
     "execution_count": 24,
     "metadata": {},
     "output_type": "execute_result"
    }
   ],
   "source": [
    "reg.score(X, y)"
   ]
  },
  {
   "cell_type": "code",
   "execution_count": 25,
   "metadata": {},
   "outputs": [
    {
     "name": "stdout",
     "output_type": "stream",
     "text": [
      "                            OLS Regression Results                            \n",
      "==============================================================================\n",
      "Dep. Variable:                      y   R-squared:                       0.702\n",
      "Model:                            OLS   Adj. R-squared:                  0.696\n",
      "Method:                 Least Squares   F-statistic:                     115.0\n",
      "Date:                Fri, 25 Jan 2019   Prob (F-statistic):           4.18e-62\n",
      "Time:                        23:51:59   Log-Likelihood:                -733.94\n",
      "No. Observations:                 250   AIC:                             1480.\n",
      "Df Residuals:                     244   BIC:                             1501.\n",
      "Df Model:                           5                                         \n",
      "Covariance Type:            nonrobust                                         \n",
      "==============================================================================\n",
      "                 coef    std err          t      P>|t|      [0.025      0.975]\n",
      "------------------------------------------------------------------------------\n",
      "const         -8.7777      5.900     -1.488      0.138     -20.399       2.843\n",
      "x1             1.0093      0.079     12.841      0.000       0.854       1.164\n",
      "x2            -0.1887      0.087     -2.158      0.032      -0.361      -0.016\n",
      "x3             0.2233      0.132      1.696      0.091      -0.036       0.483\n",
      "x4            -0.4636      0.127     -3.644      0.000      -0.714      -0.213\n",
      "x5            -0.3475      0.226     -1.537      0.126      -0.793       0.098\n",
      "==============================================================================\n",
      "Omnibus:                        1.304   Durbin-Watson:                   1.869\n",
      "Prob(Omnibus):                  0.521   Jarque-Bera (JB):                1.225\n",
      "Skew:                           0.033   Prob(JB):                        0.542\n",
      "Kurtosis:                       2.664   Cond. No.                     3.73e+03\n",
      "==============================================================================\n",
      "\n",
      "Warnings:\n",
      "[1] Standard Errors assume that the covariance matrix of the errors is correctly specified.\n",
      "[2] The condition number is large, 3.73e+03. This might indicate that there are\n",
      "strong multicollinearity or other numerical problems.\n"
     ]
    }
   ],
   "source": [
    "import pandas as pd\n",
    "import numpy as np\n",
    "from sklearn import datasets, linear_model\n",
    "from sklearn.linear_model import LinearRegression\n",
    "import statsmodels.api as sm\n",
    "from scipy import stats\n",
    "\n",
    "\n",
    "X2 = sm.add_constant(X)\n",
    "est = sm.OLS(y, X2)\n",
    "est2 = est.fit()\n",
    "print(est2.summary())"
   ]
  },
  {
   "cell_type": "markdown",
   "metadata": {},
   "source": [
    "x1, x2, x3, x4, x5 corresponds to ['Abdomen', 'Chest','Thigh', 'Hip',  'Knee']\n",
    "\n",
    "Only 'Abdomen', 'Chest', 'Hip' are statistically signicant at the 95% level."
   ]
  },
  {
   "cell_type": "code",
   "execution_count": 26,
   "metadata": {},
   "outputs": [],
   "source": [
    "import pandas as pd\n",
    "import numpy as np\n",
    "from patsy import dmatrices\n",
    "import statsmodels.api as sm\n",
    "from statsmodels.stats.outliers_influence import variance_inflation_factor\n",
    "\n",
    "# get y and X dataframes based on this regression:\n",
    "y, X = dmatrices('Body_Fat ~ Abdomen + Chest + Thigh + Hip + Knee' , df, return_type='dataframe')\n",
    "\n",
    "vif = pd.DataFrame()\n",
    "vif[\"VIF Factor\"] = [variance_inflation_factor(X.values, i) for i in range(X.shape[1])]\n",
    "vif[\"features\"] = X.columns"
   ]
  },
  {
   "cell_type": "code",
   "execution_count": 27,
   "metadata": {},
   "outputs": [
    {
     "data": {
      "text/html": [
       "<div>\n",
       "<style scoped>\n",
       "    .dataframe tbody tr th:only-of-type {\n",
       "        vertical-align: middle;\n",
       "    }\n",
       "\n",
       "    .dataframe tbody tr th {\n",
       "        vertical-align: top;\n",
       "    }\n",
       "\n",
       "    .dataframe thead th {\n",
       "        text-align: right;\n",
       "    }\n",
       "</style>\n",
       "<table border=\"1\" class=\"dataframe\">\n",
       "  <thead>\n",
       "    <tr style=\"text-align: right;\">\n",
       "      <th></th>\n",
       "      <th>VIF Factor</th>\n",
       "      <th>features</th>\n",
       "    </tr>\n",
       "  </thead>\n",
       "  <tbody>\n",
       "    <tr>\n",
       "      <th>1</th>\n",
       "      <td>8.375</td>\n",
       "      <td>Abdomen</td>\n",
       "    </tr>\n",
       "    <tr>\n",
       "      <th>2</th>\n",
       "      <td>6.344</td>\n",
       "      <td>Chest</td>\n",
       "    </tr>\n",
       "    <tr>\n",
       "      <th>3</th>\n",
       "      <td>5.626</td>\n",
       "      <td>Thigh</td>\n",
       "    </tr>\n",
       "    <tr>\n",
       "      <th>4</th>\n",
       "      <td>9.757</td>\n",
       "      <td>Hip</td>\n",
       "    </tr>\n",
       "    <tr>\n",
       "      <th>5</th>\n",
       "      <td>3.453</td>\n",
       "      <td>Knee</td>\n",
       "    </tr>\n",
       "  </tbody>\n",
       "</table>\n",
       "</div>"
      ],
      "text/plain": [
       "   VIF Factor features\n",
       "1       8.375  Abdomen\n",
       "2       6.344    Chest\n",
       "3       5.626    Thigh\n",
       "4       9.757      Hip\n",
       "5       3.453     Knee"
      ]
     },
     "execution_count": 27,
     "metadata": {},
     "output_type": "execute_result"
    }
   ],
   "source": [
    "vif.round(3)[1:]"
   ]
  },
  {
   "cell_type": "markdown",
   "metadata": {},
   "source": [
    "If the VIF is between 5-10, multicolinearity is likely present. \n",
    "\n",
    "From all 5 features except Knee, we can detect a (significant) multicollinearity.\n",
    "\n",
    "(Only Hip, Abdomen have VIF much larger than others, i would say we can detect *significant* multicollinearity from them)"
   ]
  }
 ],
 "metadata": {
  "kernelspec": {
   "display_name": "Python 3",
   "language": "python",
   "name": "python3"
  },
  "language_info": {
   "codemirror_mode": {
    "name": "ipython",
    "version": 3
   },
   "file_extension": ".py",
   "mimetype": "text/x-python",
   "name": "python",
   "nbconvert_exporter": "python",
   "pygments_lexer": "ipython3",
   "version": "3.6.7"
  }
 },
 "nbformat": 4,
 "nbformat_minor": 2
}
