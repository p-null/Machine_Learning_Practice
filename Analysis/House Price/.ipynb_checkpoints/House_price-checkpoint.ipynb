{
 "cells": [
  {
   "cell_type": "code",
   "execution_count": 0,
   "metadata": {
    "colab": {},
    "colab_type": "code",
    "id": "bVOVBePKS-bf"
   },
   "outputs": [],
   "source": [
    "import pandas as pd\n",
    "import numpy as np\n",
    "from collections import Counter\n",
    "import matplotlib.pyplot as plt\n",
    "import seaborn as sns\n",
    "from IPython.display import Image\n",
    "import scipy.stats as stats\n",
    "from sklearn.model_selection import train_test_split\n",
    "%matplotlib inline\n"
   ]
  },
  {
   "cell_type": "code",
   "execution_count": 0,
   "metadata": {
    "colab": {},
    "colab_type": "code",
    "id": "FAU7PuxhS-bm",
    "scrolled": true
   },
   "outputs": [],
   "source": [
    "train_df = pd.read_csv('house_price_train.csv')\n",
    "test_df = pd.read_csv('house_price_test.csv')"
   ]
  },
  {
   "cell_type": "markdown",
   "metadata": {
    "colab_type": "text",
    "id": "Yd7FkkWRS-br"
   },
   "source": [
    "# Correlation analysis"
   ]
  },
  {
   "cell_type": "code",
   "execution_count": 88,
   "metadata": {
    "colab": {
     "base_uri": "https://localhost:8080/",
     "height": 370
    },
    "colab_type": "code",
    "id": "1wf-LasCS-bt",
    "outputId": "76518ad0-8f12-4380-da06-778320cb6bac"
   },
   "outputs": [
    {
     "data": {
      "text/plain": [
       "zipcode         -0.044555\n",
       "id              -0.014968\n",
       "long             0.011760\n",
       "yr_built         0.040336\n",
       "condition        0.047331\n",
       "sqft_lot15       0.077641\n",
       "sqft_lot         0.085830\n",
       "yr_renovated     0.135626\n",
       "waterfront       0.268705\n",
       "floors           0.278863\n",
       "bedrooms         0.302262\n",
       "lat              0.309542\n",
       "sqft_basement    0.321816\n",
       "view             0.400164\n",
       "bathrooms        0.523939\n",
       "sqft_living15    0.595720\n",
       "sqft_above       0.604982\n",
       "grade            0.665403\n",
       "sqft_living      0.701237\n",
       "price            1.000000\n",
       "Name: price, dtype: float64"
      ]
     },
     "execution_count": 88,
     "metadata": {
      "tags": []
     },
     "output_type": "execute_result"
    }
   ],
   "source": [
    "train_df.corr()['price'].sort_values()"
   ]
  },
  {
   "cell_type": "markdown",
   "metadata": {
    "colab_type": "text",
    "id": "XofL0lZvS-b2"
   },
   "source": [
    "We can find the `sqft_living` `grade` and `sqft_above` have strong correlations with price.\n",
    "\n",
    "\n",
    "So, I think sqft_living, grade, sqft_above will be useful for price prediction intuitively."
   ]
  },
  {
   "cell_type": "code",
   "execution_count": 89,
   "metadata": {
    "colab": {
     "base_uri": "https://localhost:8080/",
     "height": 386
    },
    "colab_type": "code",
    "id": "XU7yrsD2S-b3",
    "outputId": "45ad25b4-1542-40e4-d0b6-56cb176ddcd9"
   },
   "outputs": [
    {
     "data": {
      "text/plain": [
       "id               0\n",
       "date             0\n",
       "price            0\n",
       "bedrooms         0\n",
       "bathrooms        0\n",
       "sqft_living      0\n",
       "sqft_lot         0\n",
       "floors           0\n",
       "waterfront       0\n",
       "view             0\n",
       "condition        0\n",
       "grade            0\n",
       "sqft_above       0\n",
       "sqft_basement    0\n",
       "yr_built         0\n",
       "yr_renovated     0\n",
       "zipcode          0\n",
       "lat              0\n",
       "long             0\n",
       "sqft_living15    0\n",
       "sqft_lot15       0\n",
       "dtype: int64"
      ]
     },
     "execution_count": 89,
     "metadata": {
      "tags": []
     },
     "output_type": "execute_result"
    }
   ],
   "source": [
    "train_df.isnull().sum()"
   ]
  },
  {
   "cell_type": "code",
   "execution_count": 90,
   "metadata": {
    "colab": {
     "base_uri": "https://localhost:8080/",
     "height": 386
    },
    "colab_type": "code",
    "id": "JCJhI_GwS-cG",
    "outputId": "4de3d8e8-4672-4f04-ad14-725d53ee0458"
   },
   "outputs": [
    {
     "data": {
      "text/plain": [
       "id                 int64\n",
       "date              object\n",
       "price            float64\n",
       "bedrooms           int64\n",
       "bathrooms        float64\n",
       "sqft_living        int64\n",
       "sqft_lot           int64\n",
       "floors           float64\n",
       "waterfront         int64\n",
       "view               int64\n",
       "condition          int64\n",
       "grade              int64\n",
       "sqft_above         int64\n",
       "sqft_basement      int64\n",
       "yr_built           int64\n",
       "yr_renovated       int64\n",
       "zipcode            int64\n",
       "lat              float64\n",
       "long             float64\n",
       "sqft_living15      int64\n",
       "sqft_lot15         int64\n",
       "dtype: object"
      ]
     },
     "execution_count": 90,
     "metadata": {
      "tags": []
     },
     "output_type": "execute_result"
    }
   ],
   "source": [
    "train_df.dtypes"
   ]
  },
  {
   "cell_type": "markdown",
   "metadata": {
    "colab_type": "text",
    "id": "5s5VCBl9S-cM"
   },
   "source": [
    "# Feature transformation\n",
    "\n",
    "date is string type so we convert it to numerica by \n",
    "1. Keeping 6 characters (Year Month)\n",
    "2. Use LabelEncoder to convert categorical to numerical\n"
   ]
  },
  {
   "cell_type": "code",
   "execution_count": 0,
   "metadata": {
    "colab": {},
    "colab_type": "code",
    "id": "qPQVPXqsS-cN"
   },
   "outputs": [],
   "source": [
    "def convert_to_date(date_string: str):\n",
    "    \"\"\"\n",
    "    Only keep year and month \n",
    "    \"\"\"\n",
    "    # date = date_string[:8]\n",
    "    # return pd.to_datetime(date, format='%Y%m%d', errors='ignore')\n",
    "    return date_string[:6]"
   ]
  },
  {
   "cell_type": "code",
   "execution_count": 0,
   "metadata": {
    "colab": {},
    "colab_type": "code",
    "id": "4ImjnT5uS-cS"
   },
   "outputs": [],
   "source": [
    "train_df.date = train_df.date.apply(convert_to_date)\n",
    "test_df.date = test_df.date.apply(convert_to_date)"
   ]
  },
  {
   "cell_type": "code",
   "execution_count": 0,
   "metadata": {
    "colab": {},
    "colab_type": "code",
    "id": "HMPTPByxS-cX"
   },
   "outputs": [],
   "source": [
    "from sklearn.preprocessing import LabelEncoder\n",
    "\n",
    "label_encoder = LabelEncoder()\n",
    "\n",
    "train_df.date = label_encoder.fit_transform(train_df.date)\n",
    "test_df.date = label_encoder.fit_transform(test_df.date)\n"
   ]
  },
  {
   "cell_type": "code",
   "execution_count": 0,
   "metadata": {
    "colab": {},
    "colab_type": "code",
    "id": "TSD4a1BGJ9ll"
   },
   "outputs": [],
   "source": [
    "y_train_df = train_df.price\n",
    "y_test_df = test_df.price\n",
    "\n",
    "X_train_df = train_df.drop(['id', 'price'], axis=1)\n",
    "X_test_df = test_df.drop(['id', 'price'], axis=1)\n"
   ]
  },
  {
   "cell_type": "code",
   "execution_count": 0,
   "metadata": {
    "colab": {},
    "colab_type": "code",
    "id": "8r7bFgZLKB_R"
   },
   "outputs": [],
   "source": [
    "y_train = y_train_df.values\n",
    "y_test = y_test_df.values\n",
    "\n",
    "X_train = train_df.values\n",
    "X_test = test_df.values"
   ]
  },
  {
   "cell_type": "markdown",
   "metadata": {
    "colab_type": "text",
    "id": "jQNwMpCrzLL0"
   },
   "source": [
    "# Feature selection\n",
    "\n",
    "\n",
    "## Removing features with low variance\n",
    "\n",
    "It removes all features whose variance doesn’t meet some threshold."
   ]
  },
  {
   "cell_type": "code",
   "execution_count": 0,
   "metadata": {
    "colab": {},
    "colab_type": "code",
    "id": "crezSungW4AK"
   },
   "outputs": [],
   "source": [
    "\n",
    "from sklearn.feature_selection import VarianceThreshold\n",
    "\n",
    "def variance_threshold_selector(train_df, test_df, threshold=0.1):\n",
    "    selector = VarianceThreshold(threshold)\n",
    "    selector.fit(train_df)\n",
    "    transformed_train = train_df[train_df.columns[selector.get_support(indices=True)]]\n",
    "    transformed_test = test_df[test_df.columns[selector.get_support(indices=True)]]\n",
    "    return transformed_train, transformed_test"
   ]
  },
  {
   "cell_type": "code",
   "execution_count": 97,
   "metadata": {
    "colab": {
     "base_uri": "https://localhost:8080/",
     "height": 34
    },
    "colab_type": "code",
    "id": "wzv64E4MzOSl",
    "outputId": "1c16514b-b6eb-4c5f-8567-74684a71954d"
   },
   "outputs": [
    {
     "data": {
      "text/plain": [
       "'\\nX_train_df, X_test_df = variance_threshold_selector(X_train_df, X_test_df)\\nX_train_df.shape\\n'"
      ]
     },
     "execution_count": 97,
     "metadata": {
      "tags": []
     },
     "output_type": "execute_result"
    }
   ],
   "source": [
    "\"\"\"\n",
    "X_train_df, X_test_df = variance_threshold_selector(X_train_df, X_test_df)\n",
    "X_train_df.shape\n",
    "\"\"\""
   ]
  },
  {
   "cell_type": "markdown",
   "metadata": {
    "colab_type": "text",
    "id": "vD-s6ltgH_-_"
   },
   "source": [
    "After removing features with low variance, we have 16 columns\n",
    "\n",
    "\n",
    "But based on my experiments, selecting columns in this way will decrease performance.\n",
    "So I comment them here."
   ]
  },
  {
   "cell_type": "markdown",
   "metadata": {
    "colab_type": "text",
    "id": "eYDS0HnN2kUv"
   },
   "source": [
    "## Tree-based feature selection\n"
   ]
  },
  {
   "cell_type": "markdown",
   "metadata": {
    "colab_type": "text",
    "id": "ov8DbrdTBcpP"
   },
   "source": [
    "First, we do xgboost, random forest, gbm on un-selected features.\n",
    "\n",
    "Then, we can perform a tree-based feature selection.\n",
    "\n",
    "For now, I just skip this method."
   ]
  },
  {
   "cell_type": "code",
   "execution_count": 0,
   "metadata": {
    "colab": {},
    "colab_type": "code",
    "id": "tW-kWqX72rOD"
   },
   "outputs": [],
   "source": [
    "from sklearn.feature_selection import SelectFromModel"
   ]
  },
  {
   "cell_type": "markdown",
   "metadata": {
    "colab_type": "text",
    "id": "aIZqkr6DS-cb"
   },
   "source": [
    "# Normlize columns\n",
    "\n",
    "Because value range of some columns are very big. This could dominate the train process.\n",
    "\n",
    "We normalize them by MinMaxScaler\n",
    "\n",
    "\n",
    "\n",
    "After several experiements, I find normlize all columns decrease the performance!"
   ]
  },
  {
   "cell_type": "code",
   "execution_count": 99,
   "metadata": {
    "colab": {
     "base_uri": "https://localhost:8080/",
     "height": 54
    },
    "colab_type": "code",
    "id": "dsrY1YpQS-cc",
    "outputId": "15bcc480-5f05-450b-c329-3a04761f3b25"
   },
   "outputs": [
    {
     "data": {
      "text/plain": [
       "'\\nfrom sklearn import preprocessing\\n\\n# Create a minimum and maximum processor object\\nmin_max_scaler = preprocessing.MinMaxScaler()\\n\\n# Create an object to transform the data to fit minmax processor\\nX_train_df[X_train_df.columns] = min_max_scaler.fit_transform(X_train_df.values)\\nX_test_df[X_test_df.columns] = min_max_scaler.fit_transform(X_test_df.values)\\n'"
      ]
     },
     "execution_count": 99,
     "metadata": {
      "tags": []
     },
     "output_type": "execute_result"
    }
   ],
   "source": [
    "\"\"\"\n",
    "from sklearn import preprocessing\n",
    "\n",
    "# Create a minimum and maximum processor object\n",
    "min_max_scaler = preprocessing.MinMaxScaler()\n",
    "\n",
    "# Create an object to transform the data to fit minmax processor\n",
    "X_train_df[X_train_df.columns] = min_max_scaler.fit_transform(X_train_df.values)\n",
    "X_test_df[X_test_df.columns] = min_max_scaler.fit_transform(X_test_df.values)\n",
    "\"\"\""
   ]
  },
  {
   "cell_type": "markdown",
   "metadata": {
    "colab_type": "text",
    "id": "UDs9CSEbpDIo"
   },
   "source": [
    "Normalization of columns also decreases the performance based on my experiments.\n",
    "So I comment them here."
   ]
  },
  {
   "cell_type": "code",
   "execution_count": 100,
   "metadata": {
    "colab": {
     "base_uri": "https://localhost:8080/",
     "height": 215
    },
    "colab_type": "code",
    "id": "pfWTDLp7dGnh",
    "outputId": "4f0aa458-ca94-4138-eb6b-7d67dbcc7c68"
   },
   "outputs": [
    {
     "data": {
      "text/html": [
       "<div>\n",
       "<style scoped>\n",
       "    .dataframe tbody tr th:only-of-type {\n",
       "        vertical-align: middle;\n",
       "    }\n",
       "\n",
       "    .dataframe tbody tr th {\n",
       "        vertical-align: top;\n",
       "    }\n",
       "\n",
       "    .dataframe thead th {\n",
       "        text-align: right;\n",
       "    }\n",
       "</style>\n",
       "<table border=\"1\" class=\"dataframe\">\n",
       "  <thead>\n",
       "    <tr style=\"text-align: right;\">\n",
       "      <th></th>\n",
       "      <th>date</th>\n",
       "      <th>bedrooms</th>\n",
       "      <th>bathrooms</th>\n",
       "      <th>sqft_living</th>\n",
       "      <th>sqft_lot</th>\n",
       "      <th>floors</th>\n",
       "      <th>waterfront</th>\n",
       "      <th>view</th>\n",
       "      <th>condition</th>\n",
       "      <th>grade</th>\n",
       "      <th>sqft_above</th>\n",
       "      <th>sqft_basement</th>\n",
       "      <th>yr_built</th>\n",
       "      <th>yr_renovated</th>\n",
       "      <th>zipcode</th>\n",
       "      <th>lat</th>\n",
       "      <th>long</th>\n",
       "      <th>sqft_living15</th>\n",
       "      <th>sqft_lot15</th>\n",
       "    </tr>\n",
       "  </thead>\n",
       "  <tbody>\n",
       "    <tr>\n",
       "      <th>0</th>\n",
       "      <td>5</td>\n",
       "      <td>3</td>\n",
       "      <td>1.00</td>\n",
       "      <td>1180</td>\n",
       "      <td>5650</td>\n",
       "      <td>1.0</td>\n",
       "      <td>0</td>\n",
       "      <td>0</td>\n",
       "      <td>3</td>\n",
       "      <td>7</td>\n",
       "      <td>1180</td>\n",
       "      <td>0</td>\n",
       "      <td>1955</td>\n",
       "      <td>0</td>\n",
       "      <td>98178</td>\n",
       "      <td>47.5112</td>\n",
       "      <td>-122.257</td>\n",
       "      <td>1340</td>\n",
       "      <td>5650</td>\n",
       "    </tr>\n",
       "    <tr>\n",
       "      <th>1</th>\n",
       "      <td>7</td>\n",
       "      <td>3</td>\n",
       "      <td>2.25</td>\n",
       "      <td>2570</td>\n",
       "      <td>7242</td>\n",
       "      <td>2.0</td>\n",
       "      <td>0</td>\n",
       "      <td>0</td>\n",
       "      <td>3</td>\n",
       "      <td>7</td>\n",
       "      <td>2170</td>\n",
       "      <td>400</td>\n",
       "      <td>1951</td>\n",
       "      <td>1991</td>\n",
       "      <td>98125</td>\n",
       "      <td>47.7210</td>\n",
       "      <td>-122.319</td>\n",
       "      <td>1690</td>\n",
       "      <td>7639</td>\n",
       "    </tr>\n",
       "    <tr>\n",
       "      <th>2</th>\n",
       "      <td>9</td>\n",
       "      <td>2</td>\n",
       "      <td>1.00</td>\n",
       "      <td>770</td>\n",
       "      <td>10000</td>\n",
       "      <td>1.0</td>\n",
       "      <td>0</td>\n",
       "      <td>0</td>\n",
       "      <td>3</td>\n",
       "      <td>6</td>\n",
       "      <td>770</td>\n",
       "      <td>0</td>\n",
       "      <td>1933</td>\n",
       "      <td>0</td>\n",
       "      <td>98028</td>\n",
       "      <td>47.7379</td>\n",
       "      <td>-122.233</td>\n",
       "      <td>2720</td>\n",
       "      <td>8062</td>\n",
       "    </tr>\n",
       "    <tr>\n",
       "      <th>3</th>\n",
       "      <td>7</td>\n",
       "      <td>4</td>\n",
       "      <td>3.00</td>\n",
       "      <td>1960</td>\n",
       "      <td>5000</td>\n",
       "      <td>1.0</td>\n",
       "      <td>0</td>\n",
       "      <td>0</td>\n",
       "      <td>5</td>\n",
       "      <td>7</td>\n",
       "      <td>1050</td>\n",
       "      <td>910</td>\n",
       "      <td>1965</td>\n",
       "      <td>0</td>\n",
       "      <td>98136</td>\n",
       "      <td>47.5208</td>\n",
       "      <td>-122.393</td>\n",
       "      <td>1360</td>\n",
       "      <td>5000</td>\n",
       "    </tr>\n",
       "    <tr>\n",
       "      <th>4</th>\n",
       "      <td>9</td>\n",
       "      <td>3</td>\n",
       "      <td>2.00</td>\n",
       "      <td>1680</td>\n",
       "      <td>8080</td>\n",
       "      <td>1.0</td>\n",
       "      <td>0</td>\n",
       "      <td>0</td>\n",
       "      <td>3</td>\n",
       "      <td>8</td>\n",
       "      <td>1680</td>\n",
       "      <td>0</td>\n",
       "      <td>1987</td>\n",
       "      <td>0</td>\n",
       "      <td>98074</td>\n",
       "      <td>47.6168</td>\n",
       "      <td>-122.045</td>\n",
       "      <td>1800</td>\n",
       "      <td>7503</td>\n",
       "    </tr>\n",
       "  </tbody>\n",
       "</table>\n",
       "</div>"
      ],
      "text/plain": [
       "   date  bedrooms  bathrooms  sqft_living  sqft_lot  floors  waterfront  view  \\\n",
       "0     5         3       1.00         1180      5650     1.0           0     0   \n",
       "1     7         3       2.25         2570      7242     2.0           0     0   \n",
       "2     9         2       1.00          770     10000     1.0           0     0   \n",
       "3     7         4       3.00         1960      5000     1.0           0     0   \n",
       "4     9         3       2.00         1680      8080     1.0           0     0   \n",
       "\n",
       "   condition  grade  sqft_above  sqft_basement  yr_built  yr_renovated  \\\n",
       "0          3      7        1180              0      1955             0   \n",
       "1          3      7        2170            400      1951          1991   \n",
       "2          3      6         770              0      1933             0   \n",
       "3          5      7        1050            910      1965             0   \n",
       "4          3      8        1680              0      1987             0   \n",
       "\n",
       "   zipcode      lat     long  sqft_living15  sqft_lot15  \n",
       "0    98178  47.5112 -122.257           1340        5650  \n",
       "1    98125  47.7210 -122.319           1690        7639  \n",
       "2    98028  47.7379 -122.233           2720        8062  \n",
       "3    98136  47.5208 -122.393           1360        5000  \n",
       "4    98074  47.6168 -122.045           1800        7503  "
      ]
     },
     "execution_count": 100,
     "metadata": {
      "tags": []
     },
     "output_type": "execute_result"
    }
   ],
   "source": [
    "X_train_df.head()"
   ]
  },
  {
   "cell_type": "markdown",
   "metadata": {
    "colab_type": "text",
    "id": "Q6KDW2D-S-c5"
   },
   "source": [
    "# Distribution of price\n",
    "\n",
    "Let's see the distribution of house price"
   ]
  },
  {
   "cell_type": "code",
   "execution_count": 101,
   "metadata": {
    "colab": {
     "base_uri": "https://localhost:8080/",
     "height": 918
    },
    "colab_type": "code",
    "id": "eBFibbrUS-c9",
    "outputId": "df9fa816-7d71-4482-c4a6-ae2088af6afc"
   },
   "outputs": [
    {
     "data": {
      "text/plain": [
       "<matplotlib.axes._subplots.AxesSubplot at 0x7eff45a094a8>"
      ]
     },
     "execution_count": 101,
     "metadata": {
      "tags": []
     },
     "output_type": "execute_result"
    },
    {
     "data": {
      "image/png": "[encoded data removed]",
      "text/plain": [
       "<Figure size 2016x1080 with 1 Axes>"
      ]
     },
     "metadata": {
      "tags": []
     },
     "output_type": "display_data"
    }
   ],
   "source": [
    "y_train_df.hist(xlabelsize=30, ylabelsize=30, bins=120,figsize=(28,15))"
   ]
  },
  {
   "cell_type": "code",
   "execution_count": 102,
   "metadata": {
    "colab": {
     "base_uri": "https://localhost:8080/",
     "height": 168
    },
    "colab_type": "code",
    "id": "MQhUb95ZS-dI",
    "outputId": "4ec2379b-69c8-4868-b6ea-f1e8c7c4d136"
   },
   "outputs": [
    {
     "data": {
      "text/plain": [
       "count    2.000000e+04\n",
       "mean     5.354737e+05\n",
       "std      3.659484e+05\n",
       "min      7.500000e+04\n",
       "25%      3.170000e+05\n",
       "50%      4.499500e+05\n",
       "75%      6.400000e+05\n",
       "max      7.700000e+06\n",
       "Name: price, dtype: float64"
      ]
     },
     "execution_count": 102,
     "metadata": {
      "tags": []
     },
     "output_type": "execute_result"
    }
   ],
   "source": [
    "y_train_df.describe()"
   ]
  },
  {
   "cell_type": "code",
   "execution_count": 103,
   "metadata": {
    "colab": {
     "base_uri": "https://localhost:8080/",
     "height": 34
    },
    "colab_type": "code",
    "id": "zVhm-xdIS-dP",
    "outputId": "06c34535-38f5-4c42-a4e4-8a32881be1df"
   },
   "outputs": [
    {
     "data": {
      "text/plain": [
       "4962"
      ]
     },
     "execution_count": 103,
     "metadata": {
      "tags": []
     },
     "output_type": "execute_result"
    }
   ],
   "source": [
    "(y_train_df>640000).sum()"
   ]
  },
  {
   "cell_type": "markdown",
   "metadata": {
    "colab_type": "text",
    "id": "ceMRjHFgS-dV"
   },
   "source": [
    "75% of the house prices are in the range between 0 and 640000\n",
    "\n",
    "From the table, we can see the descriptive statistics of training data "
   ]
  },
  {
   "cell_type": "markdown",
   "metadata": {
    "colab_type": "text",
    "id": "fN91awqYS-dW"
   },
   "source": [
    "# Skewness\n",
    "\n",
    "[skewness](https://whatis.techtarget.com/definition/skewness)\n",
    "\n",
    "The skewness should be about zero for normal distribution. \n",
    "\n",
    "A skenewss  value greater than zero means that there is more weight in the left tail of the distribution"
   ]
  },
  {
   "cell_type": "code",
   "execution_count": 104,
   "metadata": {
    "colab": {
     "base_uri": "https://localhost:8080/",
     "height": 310
    },
    "colab_type": "code",
    "id": "_w1RcG0fS-dX",
    "outputId": "1208168a-ff2f-4cbd-a1c4-9dfc99a7b4d6"
   },
   "outputs": [
    {
     "data": {
      "image/png": "[encoded data removed]",
      "text/plain": [
       "<Figure size 432x288 with 1 Axes>"
      ]
     },
     "metadata": {
      "tags": []
     },
     "output_type": "display_data"
    },
    {
     "name": "stdout",
     "output_type": "stream",
     "text": [
      "Skewness: 4.118\n"
     ]
    }
   ],
   "source": [
    "plt.figure()\n",
    "qq = stats.probplot(y_train_df, plot=plt)\n",
    "plt.show()\n",
    "\n",
    "print(\"Skewness: {:.3f}\".format(y_train_df.skew()))"
   ]
  },
  {
   "cell_type": "markdown",
   "metadata": {
    "colab_type": "text",
    "id": "MIe7ZOURS-dc"
   },
   "source": [
    "Our data has a positive skewness. There is more weight in the left tail of the price distribution\n",
    "\n",
    "Next, we take a log of price column and see what happens!"
   ]
  },
  {
   "cell_type": "code",
   "execution_count": 0,
   "metadata": {
    "colab": {},
    "colab_type": "code",
    "id": "qNVCeds5dSGZ"
   },
   "outputs": [],
   "source": []
  },
  {
   "cell_type": "markdown",
   "metadata": {
    "colab_type": "text",
    "id": "qZiSD_C4dTxR"
   },
   "source": [
    "# Transformation of price\n",
    "\n",
    "Check the skewness and apply log transformation"
   ]
  },
  {
   "cell_type": "code",
   "execution_count": 105,
   "metadata": {
    "colab": {
     "base_uri": "https://localhost:8080/",
     "height": 918
    },
    "colab_type": "code",
    "id": "A4ZM4EbCS-dd",
    "outputId": "9b068371-752c-4c06-cda9-1873f2e88c79"
   },
   "outputs": [
    {
     "name": "stdout",
     "output_type": "stream",
     "text": [
      "Skewness: 0.419\n"
     ]
    },
    {
     "data": {
      "image/png": "[encoded data removed]",
      "text/plain": [
       "<Figure size 2016x1080 with 1 Axes>"
      ]
     },
     "metadata": {
      "tags": []
     },
     "output_type": "display_data"
    }
   ],
   "source": [
    "y_train_df = np.log1p(y_train_df)\n",
    "y_test_df = np.log1p(y_test_df)\n",
    "\n",
    "y_train_df.hist(xlabelsize=30, ylabelsize=30, bins=120,figsize=(28,15))\n",
    "\n",
    "\n",
    "print(\"Skewness: {:.3f}\".format(y_train_df.skew()))"
   ]
  },
  {
   "cell_type": "markdown",
   "metadata": {
    "colab_type": "text",
    "id": "tEhtxvNoS-dk"
   },
   "source": [
    "The distribution is more like a normal distribution than before!\n"
   ]
  },
  {
   "cell_type": "markdown",
   "metadata": {
    "colab_type": "text",
    "id": "d_15VNdIS-dl"
   },
   "source": [
    "# Q-Q Plot"
   ]
  },
  {
   "cell_type": "code",
   "execution_count": 106,
   "metadata": {
    "colab": {
     "base_uri": "https://localhost:8080/",
     "height": 294
    },
    "colab_type": "code",
    "id": "D3QgjEI_S-dm",
    "outputId": "d52bc00f-a75a-41c3-f18a-fe8f5cdfdaa8"
   },
   "outputs": [
    {
     "data": {
      "image/png": "[encoded data removed]",
      "text/plain": [
       "<Figure size 432x288 with 1 Axes>"
      ]
     },
     "metadata": {
      "tags": []
     },
     "output_type": "display_data"
    }
   ],
   "source": [
    "plt.figure()\n",
    "qq = stats.probplot(y_train_df, plot=plt)\n",
    "plt.show()"
   ]
  },
  {
   "cell_type": "markdown",
   "metadata": {
    "colab_type": "text",
    "id": "Odu_I-L0S-dr"
   },
   "source": [
    "By taking a log of price column, it is close to normal distribution"
   ]
  },
  {
   "cell_type": "code",
   "execution_count": 0,
   "metadata": {
    "colab": {},
    "colab_type": "code",
    "id": "mDQa7LI34jiE"
   },
   "outputs": [],
   "source": []
  },
  {
   "cell_type": "markdown",
   "metadata": {
    "colab_type": "text",
    "id": "osqdxKxJ4kXd"
   },
   "source": [
    "# Parameter Tuning \n",
    "\n",
    "For each model, I will use grid search to find a good combination of hyper-parameters.\n"
   ]
  },
  {
   "cell_type": "markdown",
   "metadata": {
    "colab_type": "text",
    "id": "0g0QTa-9S-dy"
   },
   "source": [
    "# GBM"
   ]
  },
  {
   "cell_type": "code",
   "execution_count": 0,
   "metadata": {
    "colab": {},
    "colab_type": "code",
    "id": "WwNHH-ehTOCi"
   },
   "outputs": [],
   "source": [
    "y_train = y_train_df.values\n",
    "y_test = y_test_df.values\n",
    "X_train = X_train_df.values\n",
    "X_test = X_test_df.values"
   ]
  },
  {
   "cell_type": "code",
   "execution_count": 0,
   "metadata": {
    "colab": {},
    "colab_type": "code",
    "id": "0Kjx5vyCS-dz"
   },
   "outputs": [],
   "source": [
    "import numpy as np\n",
    "import matplotlib.pyplot as plt\n",
    "\n",
    "from sklearn import ensemble\n",
    "from sklearn import datasets\n",
    "from sklearn.utils import shuffle\n",
    "from sklearn.metrics import mean_squared_error, r2_score\n",
    "\n",
    "from sklearn.model_selection import GridSearchCV\n",
    "from sklearn.model_selection import KFold "
   ]
  },
  {
   "cell_type": "code",
   "execution_count": 0,
   "metadata": {
    "colab": {},
    "colab_type": "code",
    "id": "uWdgYpccvMv1"
   },
   "outputs": [],
   "source": [
    "params = {'loss': 'ls',\n",
    "         'learning_rate': 0.001,\n",
    "         'n_estimators': 3000,\n",
    "         \"subsample\":0.9,\n",
    "         'max_depth': 5, \n",
    "         'min_samples_split': 2}\n",
    "\n",
    "gb_reg = ensemble.GradientBoostingRegressor(**params)"
   ]
  },
  {
   "cell_type": "markdown",
   "metadata": {
    "colab_type": "text",
    "id": "yZrZSDONug_t"
   },
   "source": [
    "max_depth represents the depth of each tree in the forest. The deeper the tree, the more splits it has and it captures more information about the data. \n",
    "\n",
    "There is no universal rule to determine the best the value of `max_depth`. So we did a grid a serach here to find a good fit."
   ]
  },
  {
   "cell_type": "code",
   "execution_count": 110,
   "metadata": {
    "colab": {
     "base_uri": "https://localhost:8080/",
     "height": 202
    },
    "colab_type": "code",
    "id": "e86EbmqJea3L",
    "outputId": "efec2d1b-f7ff-48fb-9804-5aa6618a60b3"
   },
   "outputs": [
    {
     "data": {
      "text/plain": [
       "GridSearchCV(cv=5, error_score='raise-deprecating',\n",
       "       estimator=GradientBoostingRegressor(alpha=0.9, criterion='friedman_mse', init=None,\n",
       "             learning_rate=0.001, loss='ls', max_depth=5,\n",
       "             max_features=None, max_leaf_nodes=None,\n",
       "             min_impurity_decrease=0.0, min_impurity_split=None,\n",
       "             min_samples_leaf=1, min_sam...       subsample=0.9, tol=0.0001, validation_fraction=0.1, verbose=0,\n",
       "             warm_start=False),\n",
       "       fit_params=None, iid='warn', n_jobs=4,\n",
       "       param_grid={'max_depth': [5, 7]}, pre_dispatch='2*n_jobs',\n",
       "       refit=True, return_train_score='warn',\n",
       "       scoring='neg_mean_squared_error', verbose=0)"
      ]
     },
     "execution_count": 110,
     "metadata": {
      "tags": []
     },
     "output_type": "execute_result"
    }
   ],
   "source": [
    "grid_1 = {\"max_depth\"         : [5, 7]}\n",
    "\"\"\"\n",
    "          \"learning_rate\"      : [0.001,0.006],\n",
    "          \"n_estimators\"      : [3000, 5000]}\n",
    "               \n",
    "               \n",
    "               \"loss\"         : [\"lad\", \"ls\"],\n",
    "               \"min_samples_split\" : [2, 5] }\n",
    "\"\"\"\n",
    "\n",
    "\n",
    "grid_search = GridSearchCV(gb_reg, grid_1, n_jobs=4, cv=5,refit=True,scoring=\"neg_mean_squared_error\")\n",
    "grid_search.fit(X_train, y_train)"
   ]
  },
  {
   "cell_type": "code",
   "execution_count": 111,
   "metadata": {
    "colab": {
     "base_uri": "https://localhost:8080/",
     "height": 138
    },
    "colab_type": "code",
    "id": "7tPMei5rYkU4",
    "outputId": "63361ce1-bfbf-4458-9160-60580d248031"
   },
   "outputs": [
    {
     "name": "stdout",
     "output_type": "stream",
     "text": [
      "Best params:{'max_depth': 7}\n",
      "Result of each iteration:{'mean_fit_time': array([387.47166095, 648.15375247]), 'std_fit_time': array([  9.12478398, 186.9979244 ]), 'mean_score_time': array([1.20596089, 1.34992032]), 'std_score_time': array([0.01289685, 0.49182487]), 'param_max_depth': masked_array(data=[5, 7],\n",
      "             mask=[False, False],\n",
      "       fill_value='?',\n",
      "            dtype=object), 'params': [{'max_depth': 5}, {'max_depth': 7}], 'split0_test_score': array([-0.03638707, -0.03167887]), 'split1_test_score': array([-0.03575163, -0.03086882]), 'split2_test_score': array([-0.03564735, -0.03094102]), 'split3_test_score': array([-0.03786243, -0.03272178]), 'split4_test_score': array([-0.03602916, -0.03099553]), 'mean_test_score': array([-0.03633553, -0.0314412 ]), 'std_test_score': array([0.00080529, 0.00070325]), 'rank_test_score': array([2, 1], dtype=int32), 'split0_train_score': array([-0.03216381, -0.02247652]), 'split1_train_score': array([-0.03237427, -0.02259809]), 'split2_train_score': array([-0.03206683, -0.02245309]), 'split3_train_score': array([-0.03194527, -0.02230274]), 'split4_train_score': array([-0.03231965, -0.0226456 ]), 'mean_train_score': array([-0.03217397, -0.02249521]), 'std_train_score': array([0.00015826, 0.00012031])}\n",
      "best score:-0.03144120462786549\n"
     ]
    }
   ],
   "source": [
    "params = grid_search.best_params_\n",
    "\n",
    "print('Best params:{}'.format(params))\n",
    "print('Result of each iteration:{}'.format(grid_search.cv_results_))\n",
    "print('best score:{}'.format(grid_search.best_score_))"
   ]
  },
  {
   "cell_type": "code",
   "execution_count": 112,
   "metadata": {
    "colab": {
     "base_uri": "https://localhost:8080/",
     "height": 168
    },
    "colab_type": "code",
    "id": "PqaI68eYYkUn",
    "outputId": "45cb9cf1-9c74-4e9f-a059-d4913e96910d"
   },
   "outputs": [
    {
     "data": {
      "text/plain": [
       "GradientBoostingRegressor(alpha=0.9, criterion='friedman_mse', init=None,\n",
       "             learning_rate=0.001, loss='ls', max_depth=7,\n",
       "             max_features=None, max_leaf_nodes=None,\n",
       "             min_impurity_decrease=0.0, min_impurity_split=None,\n",
       "             min_samples_leaf=1, min_samples_split=2,\n",
       "             min_weight_fraction_leaf=0.0, n_estimators=3000,\n",
       "             n_iter_no_change=None, presort='auto', random_state=None,\n",
       "             subsample=0.9, tol=0.0001, validation_fraction=0.1, verbose=0,\n",
       "             warm_start=False)"
      ]
     },
     "execution_count": 112,
     "metadata": {
      "tags": []
     },
     "output_type": "execute_result"
    }
   ],
   "source": [
    "gb_reg.set_params(**params)"
   ]
  },
  {
   "cell_type": "markdown",
   "metadata": {
    "colab_type": "text",
    "id": "mpfqkjfb3bz2"
   },
   "source": [
    "The grid search shows that `max_depth` of 7 is better than 5\n"
   ]
  },
  {
   "cell_type": "code",
   "execution_count": 114,
   "metadata": {
    "colab": {
     "base_uri": "https://localhost:8080/",
     "height": 50
    },
    "colab_type": "code",
    "id": "1AHgWKVRvOpL",
    "outputId": "1086fad6-f6d1-47c2-abd0-37c6d12af3c1"
   },
   "outputs": [
    {
     "name": "stdout",
     "output_type": "stream",
     "text": [
      "MSE: 0.02445\n",
      "R2: 0.89328\n"
     ]
    }
   ],
   "source": [
    "gb_reg.fit(X_train, y_train)\n",
    "y_pred = gb_reg.predict(X_test)\n",
    "print(\"MSE: {0:.5f}\".format(mean_squared_error(y_test, y_pred)))\n",
    "print(\"R2: {0:.5f}\".format(r2_score(y_test, y_pred)))"
   ]
  },
  {
   "cell_type": "code",
   "execution_count": 115,
   "metadata": {
    "colab": {
     "base_uri": "https://localhost:8080/",
     "height": 403
    },
    "colab_type": "code",
    "id": "IBPSufjfS-d8",
    "outputId": "d3dafdec-1f4f-4b08-f82e-192cab2cb4b6"
   },
   "outputs": [
    {
     "data": {
      "image/png": "[encoded data removed]",
      "text/plain": [
       "<Figure size 864x432 with 2 Axes>"
      ]
     },
     "metadata": {
      "tags": []
     },
     "output_type": "display_data"
    }
   ],
   "source": [
    "# #############################################################################\n",
    "# Plot training deviance\n",
    "\n",
    "# compute test set deviance\n",
    "test_score = np.zeros((gb_reg.get_params()['n_estimators'],), dtype=np.float64)\n",
    "\n",
    "for i, y_pred in enumerate(gb_reg.staged_predict(X_test)):\n",
    "    test_score[i] = gb_reg.loss_(y_test, y_pred)\n",
    "\n",
    "plt.figure(figsize=(12, 6))\n",
    "plt.subplot(1, 2, 1)\n",
    "plt.title('Deviance')\n",
    "plt.plot(np.arange(gb_reg.get_params()['n_estimators']) + 1, gb_reg.train_score_, 'b-',\n",
    "         label='Training Set Deviance')\n",
    "plt.plot(np.arange(gb_reg.get_params()['n_estimators']) + 1, test_score, 'r-',\n",
    "         label='Test Set Deviance')\n",
    "plt.legend(loc='upper right')\n",
    "plt.xlabel('Boosting Iterations')\n",
    "plt.ylabel('Deviance')\n",
    "\n",
    "# #############################################################################\n",
    "# Plot feature importance\n",
    "feature_importance = gb_reg.feature_importances_\n",
    "# make importances relative to max importance\n",
    "feature_importance = 100.0 * (feature_importance / feature_importance.max())\n",
    "sorted_idx = np.argsort(feature_importance)\n",
    "pos = np.arange(sorted_idx.shape[0]) + .5\n",
    "plt.subplot(1, 2, 2)\n",
    "plt.barh(pos, feature_importance[sorted_idx], align='center')\n",
    "plt.yticks(pos, X_train_df.columns[sorted_idx])\n",
    "plt.xlabel('Relative Importance')\n",
    "plt.title('Variable Importance')\n",
    "plt.show()"
   ]
  },
  {
   "cell_type": "markdown",
   "metadata": {
    "colab_type": "text",
    "id": "O6WxmA0lS-eB"
   },
   "source": [
    "# Random Forest"
   ]
  },
  {
   "cell_type": "code",
   "execution_count": 0,
   "metadata": {
    "colab": {},
    "colab_type": "code",
    "id": "QL7Eg0huVAZT"
   },
   "outputs": [],
   "source": [
    "from sklearn.ensemble import RandomForestRegressor\n",
    "\n",
    "params = {'n_estimators': 700, 'max_depth': 8, 'min_samples_split': 2}\n",
    "\n",
    "rf_reg = RandomForestRegressor(**params)\n"
   ]
  },
  {
   "cell_type": "markdown",
   "metadata": {
    "colab_type": "text",
    "id": "P29mYsYXd1J2"
   },
   "source": [
    "\n",
    "From sk-learn the documentation:\n",
    "\n",
    "[max_features] is the size of the random subsets of features to consider when splitting a node.\n",
    "\n",
    "So max_features is what you call m. When max_features=\"auto\", m = p and no feature subset selection is performed in the trees, so the \"random forest\" is actually a bagged ensemble of ordinary regression trees. The docs go on to say that\n",
    "\n",
    "Empirical good default values are max_features=n_features for regression problems, and max_features=sqrt(n_features) for classification tasks\n",
    "\n",
    "By setting max_features differently, you'll get a \"true\" random forest\n",
    "\n",
    "\n",
    "\n",
    "\n",
    "\n",
    "There is no universal way to determine the best the value of `n_estimators`. So we did a grid a serach here to find a good fit.\n",
    "\n",
    "\n",
    "\n",
    "> Is a random forest even still random if bootstrapping is turned off?\n",
    "\n",
    "Yes, it's still random. Without bootstrapping, all of the data is used to fit the model, so there is not random variation among the samples at each stage. However, random forest has a second source of variation, which is the random subset of features to try at each split.\n",
    "\n",
    "I thought the whole premise of a random forest is that, unlike a single decision tree (which sees the entire dataset as it grows), RF randomly partitions the original dataset and divies the partitions up among several decision trees.\n",
    "\n",
    "This is incorrect. Random forest bootstraps the data for each tree, and then grows a decision tree that can only use a random subset of samples at each split. The documentation states \"The sub-sample size is always the same as the original input sample size but the samples are drawn with replacement if bootstrap=True (default),\" which implies that bootstrap=False draws a sample of size equal to the number of training examples without replacement, i.e. the same training set is always used.\n",
    "\n",
    "\n",
    "\n",
    "There is no universal rule to determine the best the value of `bootstrap`. So we did a grid a serach here to find a good fit."
   ]
  },
  {
   "cell_type": "code",
   "execution_count": 117,
   "metadata": {
    "colab": {
     "base_uri": "https://localhost:8080/",
     "height": 202
    },
    "colab_type": "code",
    "id": "VS8k-ab4pcoN",
    "outputId": "fe8ea2d1-91c3-49cd-9bb9-7c243eb05cb4"
   },
   "outputs": [
    {
     "data": {
      "text/plain": [
       "GridSearchCV(cv=5, error_score='raise-deprecating',\n",
       "       estimator=RandomForestRegressor(bootstrap=True, criterion='mse', max_depth=8,\n",
       "           max_features='auto', max_leaf_nodes=None,\n",
       "           min_impurity_decrease=0.0, min_impurity_split=None,\n",
       "           min_samples_leaf=1, min_samples_split=2,\n",
       "           min_weight_fraction_leaf=0.0, n_estimators=700, n_jobs=None,\n",
       "           oob_score=False, random_state=None, verbose=0, warm_start=False),\n",
       "       fit_params=None, iid='warn', n_jobs=4,\n",
       "       param_grid={'bootstrap': [True, False]}, pre_dispatch='2*n_jobs',\n",
       "       refit=True, return_train_score='warn',\n",
       "       scoring='neg_mean_squared_error', verbose=0)"
      ]
     },
     "execution_count": 117,
     "metadata": {
      "tags": []
     },
     "output_type": "execute_result"
    }
   ],
   "source": [
    "grid_rf = {\"bootstrap\"         : [True, False]}\n",
    "\"\"\"\n",
    "          \"max_featues\"      : [2,6],\n",
    "          \"n_estimators\"      : [3000, 5000]}\n",
    "}\n",
    "\"\"\"\n",
    "\n",
    "\n",
    "grid_search = GridSearchCV(rf_reg, grid_rf, n_jobs=4, cv=5,refit=True,scoring=\"neg_mean_squared_error\")\n",
    "grid_search.fit(X_train, y_train)"
   ]
  },
  {
   "cell_type": "code",
   "execution_count": 118,
   "metadata": {
    "colab": {
     "base_uri": "https://localhost:8080/",
     "height": 138
    },
    "colab_type": "code",
    "id": "zXz1C5fRpcoU",
    "outputId": "c79057ad-f1e2-4723-cb08-ede2f755cc88"
   },
   "outputs": [
    {
     "name": "stdout",
     "output_type": "stream",
     "text": [
      "Best params:{'bootstrap': True}\n",
      "Result of each iteration:{'mean_fit_time': array([141.0289125 , 178.42759027]), 'std_fit_time': array([ 2.34547477, 48.33839469]), 'mean_score_time': array([0.70138121, 0.5187891 ]), 'std_score_time': array([0.02049702, 0.19189417]), 'param_bootstrap': masked_array(data=[True, False],\n",
      "             mask=[False, False],\n",
      "       fill_value='?',\n",
      "            dtype=object), 'params': [{'bootstrap': True}, {'bootstrap': False}], 'split0_test_score': array([-0.03919126, -0.05157522]), 'split1_test_score': array([-0.03850304, -0.0515497 ]), 'split2_test_score': array([-0.03860714, -0.05110219]), 'split3_test_score': array([-0.04088283, -0.05327096]), 'split4_test_score': array([-0.03755336, -0.05054348]), 'mean_test_score': array([-0.03894753, -0.05160831]), 'std_test_score': array([0.00110109, 0.00091203]), 'rank_test_score': array([1, 2], dtype=int32), 'split0_train_score': array([-0.03157038, -0.0413568 ]), 'split1_train_score': array([-0.03112732, -0.04171677]), 'split2_train_score': array([-0.03153317, -0.04099811]), 'split3_train_score': array([-0.03208775, -0.04095029]), 'split4_train_score': array([-0.03115035, -0.03985841]), 'mean_train_score': array([-0.03149379, -0.04097608]), 'std_train_score': array([0.00034999, 0.00062353])}\n",
      "best score:-0.03894752667237747\n"
     ]
    }
   ],
   "source": [
    "params = grid_search.best_params_\n",
    "\n",
    "print('Best params:{}'.format(params))\n",
    "print('Result of each iteration:{}'.format(grid_search.cv_results_))\n",
    "print('best score:{}'.format(grid_search.best_score_))"
   ]
  },
  {
   "cell_type": "markdown",
   "metadata": {
    "colab_type": "text",
    "id": "Rpc3G3GxpcoX"
   },
   "source": [
    "Minimum sum of instance weight (hessian) needed in a child. If the tree partition step results in a leaf node with the sum of instance weight less than min_child_weight, then the building process will give up further partitioning.\n",
    "\n",
    "The grid search result shows that `bootstrap` of True is better than False"
   ]
  },
  {
   "cell_type": "code",
   "execution_count": 119,
   "metadata": {
    "colab": {
     "base_uri": "https://localhost:8080/",
     "height": 118
    },
    "colab_type": "code",
    "id": "chuqgRxGpcoY",
    "outputId": "1bd01f25-dc39-4ce0-d631-aadf280b559e"
   },
   "outputs": [
    {
     "data": {
      "text/plain": [
       "RandomForestRegressor(bootstrap=True, criterion='mse', max_depth=8,\n",
       "           max_features='auto', max_leaf_nodes=None,\n",
       "           min_impurity_decrease=0.0, min_impurity_split=None,\n",
       "           min_samples_leaf=1, min_samples_split=2,\n",
       "           min_weight_fraction_leaf=0.0, n_estimators=700, n_jobs=None,\n",
       "           oob_score=False, random_state=None, verbose=0, warm_start=False)"
      ]
     },
     "execution_count": 119,
     "metadata": {
      "tags": []
     },
     "output_type": "execute_result"
    }
   ],
   "source": [
    "rf_reg.set_params(**params)"
   ]
  },
  {
   "cell_type": "code",
   "execution_count": 120,
   "metadata": {
    "colab": {
     "base_uri": "https://localhost:8080/",
     "height": 118
    },
    "colab_type": "code",
    "id": "xF5CqiWudhCb",
    "outputId": "f7ca7da6-e372-44a2-8599-9e22c6210b67"
   },
   "outputs": [
    {
     "data": {
      "text/plain": [
       "RandomForestRegressor(bootstrap=True, criterion='mse', max_depth=8,\n",
       "           max_features='auto', max_leaf_nodes=None,\n",
       "           min_impurity_decrease=0.0, min_impurity_split=None,\n",
       "           min_samples_leaf=1, min_samples_split=2,\n",
       "           min_weight_fraction_leaf=0.0, n_estimators=700, n_jobs=None,\n",
       "           oob_score=False, random_state=None, verbose=0, warm_start=False)"
      ]
     },
     "execution_count": 120,
     "metadata": {
      "tags": []
     },
     "output_type": "execute_result"
    }
   ],
   "source": [
    "\n",
    "rf_reg.fit(X_train, y_train)"
   ]
  },
  {
   "cell_type": "code",
   "execution_count": 121,
   "metadata": {
    "colab": {
     "base_uri": "https://localhost:8080/",
     "height": 50
    },
    "colab_type": "code",
    "id": "4RvjUYrvVais",
    "outputId": "cdcd4efe-efe5-45f4-b818-58ce99f1ecce"
   },
   "outputs": [
    {
     "name": "stdout",
     "output_type": "stream",
     "text": [
      "MSE: 0.03093\n",
      "R2: 0.86501\n"
     ]
    }
   ],
   "source": [
    "\n",
    "y_pred = rf_reg.predict(X_test)\n",
    "print(\"MSE: {0:.5f}\".format(mean_squared_error(y_test, y_pred)))\n",
    "print(\"R2: {0:.5f}\".format(r2_score(y_test, y_pred)))"
   ]
  },
  {
   "cell_type": "code",
   "execution_count": 122,
   "metadata": {
    "colab": {
     "base_uri": "https://localhost:8080/",
     "height": 294
    },
    "colab_type": "code",
    "id": "LczqXgO7S-eC",
    "outputId": "7ae14eeb-55a8-40c9-d7bb-5de3f96d7514"
   },
   "outputs": [
    {
     "data": {
      "image/png": "[encoded data removed]",
      "text/plain": [
       "<Figure size 432x288 with 1 Axes>"
      ]
     },
     "metadata": {
      "tags": []
     },
     "output_type": "display_data"
    }
   ],
   "source": [
    "# #############################################################################\n",
    "# Plot feature importance\n",
    "feature_importance = rf_reg.feature_importances_\n",
    "# make importances relative to max importance\n",
    "feature_importance = 100.0 * (feature_importance / feature_importance.max())\n",
    "sorted_idx = np.argsort(feature_importance)\n",
    "pos = np.arange(sorted_idx.shape[0]) + .5\n",
    "plt.subplot(1, 2, 2)\n",
    "plt.barh(pos, feature_importance[sorted_idx], align='center')\n",
    "plt.yticks(pos, X_train_df.columns[sorted_idx])\n",
    "plt.xlabel('Relative Importance')\n",
    "plt.title('Variable Importance')\n",
    "plt.show()\n"
   ]
  },
  {
   "cell_type": "code",
   "execution_count": 0,
   "metadata": {
    "colab": {},
    "colab_type": "code",
    "id": "RklYDr_MxQrQ"
   },
   "outputs": [],
   "source": []
  },
  {
   "cell_type": "markdown",
   "metadata": {
    "colab_type": "text",
    "id": "UzuVzoV9xRUp"
   },
   "source": [
    "# XGBoost\n"
   ]
  },
  {
   "cell_type": "code",
   "execution_count": 0,
   "metadata": {
    "colab": {},
    "colab_type": "code",
    "id": "pZsJd8eNUSf6"
   },
   "outputs": [],
   "source": [
    "import xgboost as xgb"
   ]
  },
  {
   "cell_type": "markdown",
   "metadata": {
    "colab_type": "text",
    "id": "6_jih9qH4Wm5"
   },
   "source": [
    "## XGBoost train and prediction"
   ]
  },
  {
   "cell_type": "code",
   "execution_count": 0,
   "metadata": {
    "colab": {},
    "colab_type": "code",
    "id": "0Z0uiydhS-ec"
   },
   "outputs": [],
   "source": [
    "xgb_reg = xgb.XGBRegressor(colsample_bytree=0.4,\n",
    "                 gamma=0,                 \n",
    "                 learning_rate=0.07,\n",
    "                 max_depth=6,\n",
    "                 min_child_weight=1.5,\n",
    "                 n_estimators=10000,                                                                    \n",
    "                 reg_alpha=0.75,\n",
    "                 reg_lambda=0.45,\n",
    "                 subsample=0.6,\n",
    "                 seed=42)\n"
   ]
  },
  {
   "cell_type": "markdown",
   "metadata": {
    "colab_type": "text",
    "id": "l-QUUL09Z2YL"
   },
   "source": [
    "For a regression, the loss of each point in a node is\n",
    "\n",
    "$\\frac{1}{2}(y_i - \\hat{y_i})^2$\n",
    "\n",
    "The second derivative of this expression with respect to yi^ is 1. So when you sum the second derivative over all points in the node, you get the number of points in the node. Here, min_child_weight means something like \"stop trying to split once your sample size in a node goes below a given threshold\".\n",
    "\n",
    "For a binary logistic regression, the hessian for each point in a node is going to contain terms like\n",
    "\n",
    "$\\sigma(\\hat{y_i})(1 - \\sigma(\\hat{y_i}))$\n",
    "\n",
    "where σ is the sigmoid function. Say you're at a pure node (e.g., all of the training examples in the node are 1's). Then all of the yi^'s will probably be large positive numbers, so all of the σ(yi^)'s will be near 1, so all of the hessian terms will be near 0. Similar logic holds if all of the training examples in the node are 0. Here, min_child_weight means something like \"stop trying to split once you reach a certain degree of purity in a node and your model can fit it\".\n",
    "\n",
    "The Hessian's a sane thing to use for regularization and limiting tree depth. For regression, it's easy to see how you might overfit if you're always splitting down to nodes with, say, just 1 observation. Similarly, for classification, it's easy to see how you might overfit if you insist on splitting until each node is pure.\n",
    "\n",
    "\n",
    "There is no universal rule to determine the best the value of `min_child_weight`. So we did a grid a serach here to find a good fit.\n"
   ]
  },
  {
   "cell_type": "code",
   "execution_count": 125,
   "metadata": {
    "colab": {
     "base_uri": "https://localhost:8080/",
     "height": 202
    },
    "colab_type": "code",
    "id": "7RC6_ARyYTlV",
    "outputId": "fedb3b72-6d90-4b6a-8365-59cf32c851af"
   },
   "outputs": [
    {
     "data": {
      "text/plain": [
       "GridSearchCV(cv=5, error_score='raise-deprecating',\n",
       "       estimator=XGBRegressor(base_score=0.5, booster='gbtree', colsample_bylevel=1,\n",
       "       colsample_bytree=0.4, gamma=0, learning_rate=0.07, max_delta_step=0,\n",
       "       max_depth=6, min_child_weight=1.5, missing=None, n_estimators=10000,\n",
       "       n_jobs=1, nthread=None, objective='reg:linear', random_state=0,\n",
       "       reg_alpha=0.75, reg_lambda=0.45, scale_pos_weight=1, seed=42,\n",
       "       silent=True, subsample=0.6),\n",
       "       fit_params=None, iid='warn', n_jobs=4,\n",
       "       param_grid={'min_child_weight': [1.5, 2]}, pre_dispatch='2*n_jobs',\n",
       "       refit=True, return_train_score='warn',\n",
       "       scoring='neg_mean_squared_error', verbose=0)"
      ]
     },
     "execution_count": 125,
     "metadata": {
      "tags": []
     },
     "output_type": "execute_result"
    }
   ],
   "source": [
    "grid_xgb = {\"min_child_weight\"         : [1.5, 2]}\n",
    "\"\"\"\n",
    "          \"learning_rate\"      : [0.001,0.006],\n",
    "          \"n_estimators\"      : [3000, 5000]}\n",
    "}\n",
    "\"\"\"\n",
    "\n",
    "\n",
    "grid_search = GridSearchCV(xgb_reg, grid_xgb, n_jobs=4, cv=5,refit=True,scoring=\"neg_mean_squared_error\")\n",
    "grid_search.fit(X_train, y_train)"
   ]
  },
  {
   "cell_type": "code",
   "execution_count": 126,
   "metadata": {
    "colab": {
     "base_uri": "https://localhost:8080/",
     "height": 138
    },
    "colab_type": "code",
    "id": "3gaetGBqYnON",
    "outputId": "e5e92274-9bf7-4583-d71c-1686cedc8b10"
   },
   "outputs": [
    {
     "name": "stdout",
     "output_type": "stream",
     "text": [
      "Best params:{'min_child_weight': 1.5}\n",
      "Result of each iteration:{'mean_fit_time': array([401.48338981, 323.14113417]), 'std_fit_time': array([ 2.31407449, 96.82132712]), 'mean_score_time': array([23.30120249, 17.22437797]), 'std_score_time': array([0.6072591, 7.5860632]), 'param_min_child_weight': masked_array(data=[1.5, 2],\n",
      "             mask=[False, False],\n",
      "       fill_value='?',\n",
      "            dtype=object), 'params': [{'min_child_weight': 1.5}, {'min_child_weight': 2}], 'split0_test_score': array([-0.02798198, -0.02798198]), 'split1_test_score': array([-0.02727022, -0.02727022]), 'split2_test_score': array([-0.0261907, -0.0261907]), 'split3_test_score': array([-0.02886015, -0.02886015]), 'split4_test_score': array([-0.02678609, -0.02678609]), 'mean_test_score': array([-0.02741783, -0.02741783]), 'std_test_score': array([0.00093009, 0.00093009]), 'rank_test_score': array([1, 1], dtype=int32), 'split0_train_score': array([-0.00121792, -0.00121792]), 'split1_train_score': array([-0.00122979, -0.00122979]), 'split2_train_score': array([-0.00120962, -0.00120962]), 'split3_train_score': array([-0.00118209, -0.00118209]), 'split4_train_score': array([-0.00124315, -0.00124315]), 'mean_train_score': array([-0.00121651, -0.00121651]), 'std_train_score': array([2.05922224e-05, 2.05922224e-05])}\n",
      "best score:-0.027417828833168068\n"
     ]
    }
   ],
   "source": [
    "params = grid_search.best_params_\n",
    "\n",
    "print('Best params:{}'.format(params))\n",
    "print('Result of each iteration:{}'.format(grid_search.cv_results_))\n",
    "print('best score:{}'.format(grid_search.best_score_))"
   ]
  },
  {
   "cell_type": "markdown",
   "metadata": {
    "colab_type": "text",
    "id": "nutLYW0UdUzO"
   },
   "source": [
    "Minimum sum of instance weight (hessian) needed in a child. If the tree partition step results in a leaf node with the sum of instance weight less than min_child_weight, then the building process will give up further partitioning.\n",
    "\n",
    "The grid search result shows that `min_child_weight` of 1.5 is better than 2"
   ]
  },
  {
   "cell_type": "code",
   "execution_count": 127,
   "metadata": {
    "colab": {
     "base_uri": "https://localhost:8080/",
     "height": 118
    },
    "colab_type": "code",
    "id": "FA1tNU7gYnOV",
    "outputId": "2e2b4caf-0181-4a22-9ce5-6e110e7f72f4"
   },
   "outputs": [
    {
     "data": {
      "text/plain": [
       "XGBRegressor(base_score=0.5, booster='gbtree', colsample_bylevel=1,\n",
       "       colsample_bytree=0.4, gamma=0, learning_rate=0.07, max_delta_step=0,\n",
       "       max_depth=6, min_child_weight=1.5, missing=None, n_estimators=10000,\n",
       "       n_jobs=1, nthread=None, objective='reg:linear', random_state=0,\n",
       "       reg_alpha=0.75, reg_lambda=0.45, scale_pos_weight=1, seed=42,\n",
       "       silent=True, subsample=0.6)"
      ]
     },
     "execution_count": 127,
     "metadata": {
      "tags": []
     },
     "output_type": "execute_result"
    }
   ],
   "source": [
    "xgb_reg.set_params(**params)"
   ]
  },
  {
   "cell_type": "code",
   "execution_count": 128,
   "metadata": {
    "colab": {
     "base_uri": "https://localhost:8080/",
     "height": 50
    },
    "colab_type": "code",
    "id": "JImsD1P-S-eh",
    "outputId": "e8c241c1-aaf2-4459-9f6e-80b6f979eb78"
   },
   "outputs": [
    {
     "name": "stdout",
     "output_type": "stream",
     "text": [
      "MSE: 0.01627\n",
      "R2: 0.92901\n"
     ]
    }
   ],
   "source": [
    "xgb_reg.fit(X_train, y_train)\n",
    "y_pred = xgb_reg.predict(X_test)\n",
    "print(\"MSE: {0:.5f}\".format(mean_squared_error(y_test, y_pred)))\n",
    "print(\"R2: {0:.5f}\".format(r2_score(y_test, y_pred)))"
   ]
  },
  {
   "cell_type": "code",
   "execution_count": 129,
   "metadata": {
    "colab": {
     "base_uri": "https://localhost:8080/",
     "height": 294
    },
    "colab_type": "code",
    "id": "T4EJi06ES-ek",
    "outputId": "ff9ac96a-8a4a-4132-bd89-0843951cf73f"
   },
   "outputs": [
    {
     "data": {
      "image/png": "[encoded data removed]",
      "text/plain": [
       "<Figure size 432x288 with 1 Axes>"
      ]
     },
     "metadata": {
      "tags": []
     },
     "output_type": "display_data"
    }
   ],
   "source": [
    "# #############################################################################\n",
    "# Plot feature importance\n",
    "feature_importance = xgb_reg.feature_importances_\n",
    "# make importances relative to max importance\n",
    "feature_importance = 100.0 * (feature_importance / feature_importance.max())\n",
    "sorted_idx = np.argsort(feature_importance)\n",
    "pos = np.arange(sorted_idx.shape[0]) + .5\n",
    "plt.subplot(1, 2, 2)\n",
    "plt.barh(pos, feature_importance[sorted_idx], align='center')\n",
    "plt.yticks(pos, X_train_df.columns[sorted_idx])\n",
    "plt.xlabel('Relative Importance')\n",
    "plt.title('Variable Importance')\n",
    "plt.show()\n"
   ]
  },
  {
   "cell_type": "markdown",
   "metadata": {
    "colab_type": "text",
    "id": "3O3UIgxcY7cZ"
   },
   "source": [
    "I choose mean squared error and R square score for evalution.\n",
    "\n",
    "Here is the comparison table:\n",
    "\n",
    "|Model| MSE | R2 |\n",
    "| --- | --- | --- |\n",
    "| GBM | 0.02418 | 0.89450 |\n",
    "| Random Forest | 0.03097 | 0.86484 |\n",
    "| Xgboost | 0.01627 | 0.92901 |\n",
    "\n",
    "\n",
    "\n",
    "We can see that XGBoost model outperform other models in terms of both MSE and R2\n",
    "\n"
   ]
  },
  {
   "cell_type": "markdown",
   "metadata": {
    "colab_type": "text",
    "id": "FO6QzoyuS-ex"
   },
   "source": [
    "Ref:\n",
    "\n",
    "\n",
    "[Using Random Forests in Python with Scikit-Learn](https://www.blopig.com/blog/2017/07/using-random-forests-in-python-with-scikit-learn/)\n",
    "\n",
    "\n",
    "[Explanation of min_child_weight in xgboost algorithm](https://stats.stackexchange.com/questions/317073/explanation-of-min-child-weight-in-xgboost-algorithm)\n",
    "\n",
    "\n",
    "\n",
    "[What happens when bootstrapping isn't used in sklearn.RandomForestClassifier?](https://stats.stackexchange.com/questions/354336/what-happens-when-bootstrapping-isnt-used-in-sklearn-randomforestclassifier)"
   ]
  },
  {
   "cell_type": "markdown",
   "metadata": {
    "colab_type": "text",
    "id": "QJjSRE3oS-eO"
   },
   "source": [
    "Ignore the following"
   ]
  },
  {
   "cell_type": "markdown",
   "metadata": {
    "colab_type": "text",
    "id": "u9rK_ZZbxaHX"
   },
   "source": [
    "\n",
    "\n",
    "# Hyperopt"
   ]
  },
  {
   "cell_type": "code",
   "execution_count": 0,
   "metadata": {
    "colab": {},
    "colab_type": "code",
    "id": "oUHUR2x3S-eQ"
   },
   "outputs": [],
   "source": [
    "from hyperopt import fmin, tpe, hp, partial\n",
    "\n"
   ]
  },
  {
   "cell_type": "code",
   "execution_count": 0,
   "metadata": {
    "colab": {},
    "colab_type": "code",
    "id": "trIE36VhS-eY"
   },
   "outputs": [],
   "source": [
    "X_train, X_valid, y_train, y_valid = train_test_split(X_train, y_train, test_size=0.1, random_state=10)\n",
    "\n",
    "# dtrain = xgb.DMatrix(X_train, label=y_train)\n",
    "\n",
    "# dvalid = xgb.DMatrix(X_valid, label=y_valid)\n",
    "\n",
    "evallist = [(X_valid, y_valid)]"
   ]
  },
  {
   "cell_type": "markdown",
   "metadata": {
    "colab_type": "text",
    "id": "IC5y_4fOxOCE"
   },
   "source": [
    "### Model Factory \n"
   ]
  },
  {
   "cell_type": "code",
   "execution_count": 0,
   "metadata": {
    "colab": {},
    "colab_type": "code",
    "id": "0VHq_qF3xMsK"
   },
   "outputs": [],
   "source": [
    "def xgboost_factory(argsDict):\n",
    "    argsDict = argsDict_tranform(argsDict)\n",
    "    \n",
    "    params = {'nthread': -1,   \n",
    "              'max_depth': argsDict['max_depth'],  \n",
    "              'n_estimators': argsDict['n_estimators'], \n",
    "              'eta': argsDict['learning_rate'],  \n",
    "              'subsample': argsDict['subsample'],   \n",
    "              'min_child_weight': argsDict['min_child_weight'], \n",
    "              'objective': 'reg:linear',\n",
    "              'silent': 0,  \n",
    "              'gamma': 0,  \n",
    "              'colsample_bytree': 0.7,  \n",
    "              'alpha': 0,   \n",
    "              'lambda': 0, \n",
    "              'scale_pos_weight': 0, \n",
    "              'seed': 100,  \n",
    "              'missing': -999, \n",
    "              }\n",
    "    \n",
    "    xgb_reg = xgb.XGBRegressor(**params)\n",
    "    \n",
    "    xrf = xgb_reg.fit(X_train, y_train, eval_set=evallist, eval_metric='rmse', early_stopping_rounds=100)\n",
    "\n",
    "    return get_tranformer_score(xrf)\n",
    "\n",
    "def get_tranformer_score(tranformer):\n",
    "    \n",
    "    xrf = tranformer\n",
    "\n",
    "    prediction = xrf.predict(X_test, ntree_limit=xrf.best_ntree_limit)\n",
    "  \n",
    "    return mean_squared_error(y_test, prediction)\n"
   ]
  },
  {
   "cell_type": "markdown",
   "metadata": {
    "colab_type": "text",
    "id": "sAtiQtBEyNgD"
   },
   "source": [
    "## Hyperopt"
   ]
  },
  {
   "cell_type": "code",
   "execution_count": 133,
   "metadata": {
    "colab": {
     "base_uri": "https://localhost:8080/",
     "height": 178
    },
    "colab_type": "code",
    "id": "S5Q0qKQjyQDu",
    "outputId": "de8095d8-38c0-4a98-8a55-70388a107a31"
   },
   "outputs": [
    {
     "ename": "NameError",
     "evalue": "ignored",
     "output_type": "error",
     "traceback": [
      "\u001b[0;31m---------------------------------------------------------------------------\u001b[0m",
      "\u001b[0;31mNameError\u001b[0m                                 Traceback (most recent call last)",
      "\u001b[0;32m<ipython-input-133-4f8629a2feff>\u001b[0m in \u001b[0;36m<module>\u001b[0;34m()\u001b[0m\n\u001b[1;32m      1\u001b[0m \u001b[0malgo\u001b[0m \u001b[0;34m=\u001b[0m \u001b[0mpartial\u001b[0m\u001b[0;34m(\u001b[0m\u001b[0mtpe\u001b[0m\u001b[0;34m.\u001b[0m\u001b[0msuggest\u001b[0m\u001b[0;34m,\u001b[0m \u001b[0mn_startup_jobs\u001b[0m\u001b[0;34m=\u001b[0m\u001b[0;36m1\u001b[0m\u001b[0;34m)\u001b[0m\u001b[0;34m\u001b[0m\u001b[0;34m\u001b[0m\u001b[0m\n\u001b[0;32m----> 2\u001b[0;31m \u001b[0mbest\u001b[0m \u001b[0;34m=\u001b[0m \u001b[0mfmin\u001b[0m\u001b[0;34m(\u001b[0m\u001b[0mxgboost_factory\u001b[0m\u001b[0;34m,\u001b[0m \u001b[0mspace\u001b[0m\u001b[0;34m,\u001b[0m \u001b[0malgo\u001b[0m\u001b[0;34m=\u001b[0m\u001b[0malgo\u001b[0m\u001b[0;34m,\u001b[0m \u001b[0mmax_evals\u001b[0m\u001b[0;34m=\u001b[0m\u001b[0;36m20\u001b[0m\u001b[0;34m,\u001b[0m \u001b[0mpass_expr_memo_ctrl\u001b[0m\u001b[0;34m=\u001b[0m\u001b[0;32mNone\u001b[0m\u001b[0;34m)\u001b[0m\u001b[0;34m\u001b[0m\u001b[0;34m\u001b[0m\u001b[0m\n\u001b[0m",
      "\u001b[0;31mNameError\u001b[0m: name 'space' is not defined"
     ]
    }
   ],
   "source": [
    "algo = partial(tpe.suggest, n_startup_jobs=1)\n",
    "best = fmin(xgboost_factory, space, algo=algo, max_evals=20, pass_expr_memo_ctrl=None)"
   ]
  },
  {
   "cell_type": "code",
   "execution_count": 0,
   "metadata": {
    "colab": {},
    "colab_type": "code",
    "id": "gyCuKyBJydng"
   },
   "outputs": [],
   "source": [
    "RMSE = xgboost_factory(best)\n",
    "print('best :', best)\n",
    "print('best param after transform :')\n",
    "argsDict_tranform(best,isPrint=True)\n",
    "print('rmse of the best xgboost:', np.sqrt(RMSE))\n"
   ]
  },
  {
   "cell_type": "code",
   "execution_count": 0,
   "metadata": {
    "colab": {},
    "colab_type": "code",
    "id": "fg6C8Lgm4VnL"
   },
   "outputs": [],
   "source": []
  }
 ],
 "metadata": {
  "colab": {
   "collapsed_sections": [],
   "name": "House_price.ipynb",
   "provenance": [],
   "version": "0.3.2"
  },
  "kernelspec": {
   "display_name": "Python 3",
   "language": "python",
   "name": "python3"
  },
  "language_info": {
   "codemirror_mode": {
    "name": "ipython",
    "version": 3
   },
   "file_extension": ".py",
   "mimetype": "text/x-python",
   "name": "python",
   "nbconvert_exporter": "python",
   "pygments_lexer": "ipython3",
   "version": "3.6.6"
  }
 },
 "nbformat": 4,
 "nbformat_minor": 1
}
