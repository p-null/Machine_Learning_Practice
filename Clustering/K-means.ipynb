{
 "cells": [
  {
   "cell_type": "markdown",
   "metadata": {},
   "source": [
    "## K-Means"
   ]
  },
  {
   "cell_type": "markdown",
   "metadata": {},
   "source": [
    "Given a set of datapoints ${x_1, ..., x_n}$ and a positive number $k$, find the clusters $C_1, ..., C_k$ that minimize\n",
    "\n",
    "\\begin{equation}\n",
    "J = \\sum_{i=1}^n \\, \\sum_{j=1}^k \\, z_{ij} \\, || x_i - \\mu_j ||_2\n",
    "\\end{equation}\n",
    "\n",
    "where:  \n",
    "- $z_{ij} \\in \\{0,1\\}$ defines whether of not datapoint $x_i$ belongs to cluster $C_j$\n",
    "- $\\mu_j$ denotes the cluster center of cluster $C_j$\n",
    "- $|| \\, ||_2$ denotes the Euclidean distance\n"
   ]
  },
  {
   "cell_type": "code",
   "execution_count": 1,
   "metadata": {},
   "outputs": [],
   "source": [
    "import pandas as pd\n",
    "import numpy as np\n",
    "%matplotlib inline\n",
    "import matplotlib\n",
    "import matplotlib.pyplot as plt\n",
    "from sklearn.metrics.pairwise import euclidean_distances\n",
    "from sklearn.metrics import pairwise_distances\n",
    "\n",
    "from utils import plot_decision_boundaries\n"
   ]
  },
  {
   "cell_type": "code",
   "execution_count": 2,
   "metadata": {},
   "outputs": [
    {
     "data": {
      "text/plain": [
       "(150, 2)"
      ]
     },
     "execution_count": 2,
     "metadata": {},
     "output_type": "execute_result"
    }
   ],
   "source": [
    "data = pd.read_csv('data.csv',header=None).values\n",
    "data.shape"
   ]
  },
  {
   "cell_type": "code",
   "execution_count": 3,
   "metadata": {},
   "outputs": [],
   "source": [
    "def visualize_data(X):\n",
    "    plt.scatter(X[:,0],X[:,1],c='b',s=5)\n",
    "    plt.xlabel('$x_1$')\n",
    "    plt.ylabel('$x_2$')\n",
    "plt.figure(figsize=(4,4))\n",
    "visualize_data(data)\n",
    "plt.show()"
   ]
  },
  {
   "cell_type": "code",
   "execution_count": 4,
   "metadata": {},
   "outputs": [
    {
     "data": {
      "image/png": "[encoded data removed]",
      "text/plain": [
       "<matplotlib.figure.Figure at 0x15adb3170b8>"
      ]
     },
     "metadata": {
      "needs_background": "light"
     },
     "output_type": "display_data"
    }
   ],
   "source": [
    "plt.figure(figsize=(4,4))\n",
    "visualize_data(data)\n",
    "plt.show()"
   ]
  },
  {
   "cell_type": "code",
   "execution_count": 5,
   "metadata": {},
   "outputs": [],
   "source": [
    "def row_norm(X, squared=True):\n",
    "    #Row-wise (squared) Euclidean norm of X.\n",
    "    #Equivalent to np.sqrt((X * X).sum(axis=1))\n",
    "    norms = np.einsum('ij,ij->i', X, X)\n",
    "    if not squared:\n",
    "        np.sqrt(norms, norms)\n",
    "    return norms\n",
    "\n",
    "def _kplus_init(X, n_clusters, random_state, x_squared_norms):\n",
    "    n_samples, n_features = X.shape\n",
    "\n",
    "    centers = np.empty((n_clusters, n_features), dtype=X.dtype)\n",
    "    \n",
    "    n_local_trials = 2 + int(np.log(n_clusters))\n",
    "    \n",
    "    center_id = random_state.randint(n_samples)\n",
    "    \n",
    "    closest_dist_sq = euclidean_distances(centers[0, np.newaxis], \n",
    "                                          X, \n",
    "                                          Y_norm_squared=x_squared_norms,\n",
    "                                          squared=True)\n",
    "    current_pot = closest_dist_sq.sum()\n",
    "    for c in range(1, n_clusters):\n",
    "        rand_vals = random_state.random_sample(n_local_trials) * current_pot\n",
    "        candidate_ids = np.searchsorted(np.cumsum(closest_dist_sq),\n",
    "                                        rand_vals)\n",
    "\n",
    "        distance_to_candidates = euclidean_distances(\n",
    "            X[candidate_ids], X, Y_norm_squared=x_squared_norms, squared=True)\n",
    "\n",
    "        best_candidate = None\n",
    "        best_pot = None\n",
    "        best_dist_sq = None\n",
    "        for trial in range(n_local_trials):\n",
    "            new_dist_sq = np.minimum(closest_dist_sq,\n",
    "                                     distance_to_candidates[trial])\n",
    "            new_pot = new_dist_sq.sum()\n",
    "\n",
    "            if (best_candidate is None) or (new_pot < best_pot):\n",
    "                best_candidate = candidate_ids[trial]\n",
    "                best_pot = new_pot\n",
    "                best_dist_sq = new_dist_sq\n",
    "\n",
    "        centers[c] = X[best_candidate]\n",
    "        current_pot = best_pot\n",
    "        closest_dist_sq = best_dist_sq\n",
    "\n",
    "    return centers    \n",
    "\n",
    "def _random_init(X, n_clusters, random_state):\n",
    "    seeds = random_state.permutation(X.shape[0])[:n_clusters]\n",
    "    centers = X[seeds]\n",
    "    return centers\n",
    "    \n",
    "def _init_centroids(X, n_clusters, random_state,x_squared_norms=None, init='kplus'): \n",
    "    if init == 'random':\n",
    "        centers = _random_init(X, n_clusters, random_state)\n",
    "    else:\n",
    "        centers = _kplus_init(X, n_clusters, random_state, x_squared_norms)\n",
    "    return centers\n",
    "  \n",
    "\n",
    "def _assign_labels(X, centers):\n",
    "    dist = pairwise_distances(X, centers,metric='euclidean')\n",
    "    assignments = np.argmin(dist,axis=1)\n",
    "    return assignments\n",
    "\n",
    "def _get_centers(X, assignments):\n",
    "    new_centers = []\n",
    "    for i in np.unique(assignments):\n",
    "        new_centers.append(X[assignments == i].mean(axis=0))\n",
    "    return np.array(new_centers)\n",
    "\n",
    "def _kmeans_lloyd(X, n_clusters, random_state, init, max_iter = 240):\n",
    "    x_squared_norms = row_norm(X)\n",
    "    centers = _init_centroids(X, n_clusters, random_state, x_squared_norms,init=init)\n",
    "    distances = np.zeros(shape=(X.shape[0],), dtype=X.dtype)\n",
    "\n",
    "    for i in range(max_iter):\n",
    "        centers_old = centers.copy()\n",
    "        # E-step of EM\n",
    "        assignments = _assign_labels(X, centers)\n",
    "        # M-step of EM\n",
    "        centers = _get_centers(X, assignments)\n",
    "    return centers, assignments"
   ]
  },
  {
   "cell_type": "code",
   "execution_count": 6,
   "metadata": {},
   "outputs": [],
   "source": [
    "class KMeans():\n",
    "    def __init__(self,n_clusters:int, random_seed:int = 65):\n",
    "        self.n_clusters = n_clusters\n",
    "        self.random_state = np.random.RandomState(random_seed)      \n",
    "        \n",
    "    def fit(self,X):\n",
    "        #X_mean = X.mean(axis=0)\n",
    "        #X -= X_mean\n",
    "        self.cluster_centers_, self.labels_ = _kmeans_lloyd(X=X,\n",
    "                                                            n_clusters = self.n_clusters,\n",
    "                                                            random_state = self.random_state,\n",
    "                                                            init ='random')\n",
    "\n",
    "        return self\n",
    "    \n",
    "    def fit_predict(self,X):\n",
    "        return self.fit(X).labels_\n",
    "    \n",
    "    def predict(self, X):\n",
    "        #X_mean = X.mean(axis=0)\n",
    "        #X -= X_mean\n",
    "        if self.labels_ is not None:\n",
    "            return _assign_labels(X, self.cluster_centers_)\n",
    "        \n",
    "    "
   ]
  },
  {
   "cell_type": "code",
   "execution_count": 7,
   "metadata": {},
   "outputs": [
    {
     "data": {
      "text/plain": [
       "True"
      ]
     },
     "execution_count": 7,
     "metadata": {},
     "output_type": "execute_result"
    }
   ],
   "source": [
    "kmeans = KMeans(n_clusters=3, random_seed=14)\n",
    "y_pred = kmeans.fit_predict(data)\n",
    "y_pred is kmeans.labels_"
   ]
  },
  {
   "cell_type": "code",
   "execution_count": 8,
   "metadata": {},
   "outputs": [
    {
     "data": {
      "text/plain": [
       "array([[6.98823529, 4.74705882],\n",
       "       [5.02307692, 3.42115385],\n",
       "       [6.5787234 , 2.94893617]])"
      ]
     },
     "execution_count": 8,
     "metadata": {},
     "output_type": "execute_result"
    }
   ],
   "source": [
    "kmeans.cluster_centers_"
   ]
  },
  {
   "cell_type": "code",
   "execution_count": 9,
   "metadata": {},
   "outputs": [
    {
     "data": {
      "text/plain": [
       "array([0, 1, 2])"
      ]
     },
     "execution_count": 9,
     "metadata": {},
     "output_type": "execute_result"
    }
   ],
   "source": [
    "a = np.arange(10)\n",
    "np.sort(a[:3])"
   ]
  },
  {
   "cell_type": "code",
   "execution_count": 10,
   "metadata": {},
   "outputs": [
    {
     "data": {
      "image/png": "[encoded data removed]",
      "text/plain": [
       "<matplotlib.figure.Figure at 0x15adb634710>"
      ]
     },
     "metadata": {
      "needs_background": "light"
     },
     "output_type": "display_data"
    }
   ],
   "source": [
    "plt.figure(figsize=(4, 4))\n",
    "plot_decision_boundaries(kmeans, data)\n",
    "\n",
    "plt.show()"
   ]
  },
  {
   "cell_type": "code",
   "execution_count": 11,
   "metadata": {},
   "outputs": [
    {
     "data": {
      "text/plain": [
       "'\\ndef _labels_inertia(X, x_squared_norms, centers,\\n                    distances=None):\\n    \\n    n_samples = X.shape[0]\\n    # set the default value of centers to -1 to be able to detect any anomaly\\n    # easily\\n    labels = np.full(n_samples, -1, np.int32)\\n    if distances is None:\\n        distances = np.zeros(shape=(0,), dtype=X.dtype)\\n\\n    inertia = _assign_labels_array(\\n        X, x_squared_norms, centers, labels,\\n        distances=distances)\\n    return labels, inertia\\n'"
      ]
     },
     "execution_count": 11,
     "metadata": {},
     "output_type": "execute_result"
    }
   ],
   "source": [
    "'''\n",
    "def _labels_inertia(X, x_squared_norms, centers,\n",
    "                    distances=None):\n",
    "    \n",
    "    n_samples = X.shape[0]\n",
    "    # set the default value of centers to -1 to be able to detect any anomaly\n",
    "    # easily\n",
    "    labels = np.full(n_samples, -1, np.int32)\n",
    "    if distances is None:\n",
    "        distances = np.zeros(shape=(0,), dtype=X.dtype)\n",
    "\n",
    "    inertia = _assign_labels_array(\n",
    "        X, x_squared_norms, centers, labels,\n",
    "        distances=distances)\n",
    "    return labels, inertia\n",
    "'''"
   ]
  },
  {
   "cell_type": "code",
   "execution_count": 12,
   "metadata": {},
   "outputs": [],
   "source": [
    "def _compute_distances(points):\n",
    "    n = points.shape[0]\n",
    "    distances = np.zeros((n, n))\n",
    "    for i in range(n):\n",
    "        for j in range(n):\n",
    "            distances[i,j] = np.linalg.norm(points[i,:] - points[j,:])\n",
    "    return distances\n",
    "test1 = _compute_distances(data)\n",
    "X_copy = data.copy()\n",
    "test2 = pairwise_distances(data, data)\n",
    "# test1 == test2 with tolerance"
   ]
  }
 ],
 "metadata": {
  "kernelspec": {
   "display_name": "Python 3",
   "language": "python",
   "name": "python3"
  },
  "language_info": {
   "codemirror_mode": {
    "name": "ipython",
    "version": 3
   },
   "file_extension": ".py",
   "mimetype": "text/x-python",
   "name": "python",
   "nbconvert_exporter": "python",
   "pygments_lexer": "ipython3",
   "version": "3.6.6"
  }
 },
 "nbformat": 4,
 "nbformat_minor": 2
}
