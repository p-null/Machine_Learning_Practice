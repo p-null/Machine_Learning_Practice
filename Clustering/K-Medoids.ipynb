{
 "cells": [
  {
   "cell_type": "markdown",
   "metadata": {},
   "source": [
    "# K-Medoids\n",
    "\n",
    "The most common realisation of k-medoid clustering is the Partitioning Around Medoids (PAM) algorithm. PAM uses a greedy search which may not find the optimum solution, but it is faster than exhaustive search[citation needed]. It works as follows:\n",
    "\n",
    "-Initialize: select k of the n data points as the medoids\n",
    "Associate each data point to the closest medoid.\n",
    "\n",
    "-While the cost of the configuration decreases:\n",
    "For each medoid m, for each non-medoid data point o:\n",
    "Swap m and o, associate each data point to the closest medoid, recompute the cost (sum of distances of points to their medoid)\n",
    "If the total cost of the configuration increased in the previous step, undo the swap\n",
    "\n",
    "\n",
    "Algorithms other than PAM have also been suggested in the literature, including the following Voronoi iteration method:[2] [3]\n",
    "\n",
    "Select initial medoids\n",
    "Iterate while the cost decreases:\n",
    "In each cluster, make the point that minimizes the sum of distances within the cluster the medoid\n",
    "Reassign each point to the cluster defined by the closest medoid determined in the previous step.\n"
   ]
  },
  {
   "cell_type": "code",
   "execution_count": 1,
   "metadata": {},
   "outputs": [
    {
     "data": {
      "text/plain": [
       "(150, 2)"
      ]
     },
     "execution_count": 1,
     "metadata": {},
     "output_type": "execute_result"
    }
   ],
   "source": [
    "import pandas as pd\n",
    "import numpy as np\n",
    "%matplotlib inline\n",
    "import matplotlib\n",
    "import matplotlib.pyplot as plt\n",
    "from sklearn.metrics.pairwise import euclidean_distances\n",
    "from sklearn.metrics import pairwise_distances\n",
    "\n",
    "from utils import plot_decision_boundaries\n",
    "data = pd.read_csv('data.csv',header=None).values\n",
    "data.shape"
   ]
  },
  {
   "cell_type": "code",
   "execution_count": 2,
   "metadata": {},
   "outputs": [],
   "source": [
    "def _init_centroids(X, n_clusters, random_state):\n",
    "    center_idx = random_state.permutation(X.shape[0])[:n_clusters]\n",
    "    return center_idx\n",
    "\n",
    "def _assign_labels(X, center_idx, self_distances): \n",
    "    # centers are indices\n",
    "    assignments = np.argmin(self_distances[:,center_idx],axis=1)\n",
    "    return assignments\n",
    "\n",
    "def predict_labels(X, centers):\n",
    "    # centers are data points\n",
    "    distances = pairwise_distances(X, centers,metric='cityblock')\n",
    "    return np.argmin(distances,axis=1)\n",
    "    \n",
    "    \n",
    "def _get_centers(X, assignments, self_distances):\n",
    "    new_centers = []\n",
    "    for i in np.unique(assignments):\n",
    "        # indices of points belonging to cluster i\n",
    "        idx = np.arange(X.shape[0])[assignments == i]\n",
    "        # new medoid of cluster i in terms of idx\n",
    "        idxx = np.argmin((np.mean(self_distances[np.ix_(idx,idx)],axis=1)))\n",
    "        # new medoid of cluster i in terms of all points\n",
    "        new_medoid_idx = idx[idxx]\n",
    "        new_centers.append(new_medoid_idx)\n",
    "    new_centers = np.asarray(new_centers,dtype=np.int32)\n",
    "    new = np.sort(new_centers)  \n",
    "    return new\n",
    "\n",
    "def _kmedoid(X, n_clusters, random_state, self_distances, max_iter = 240):\n",
    "    centers = _init_centroids(X, n_clusters, random_state)\n",
    "    for i in range(max_iter):\n",
    "        centers_old = centers.copy()\n",
    "        # E-step of EM\n",
    "        assignments = _assign_labels(X, centers, self_distances)\n",
    "        # M-step of EM\n",
    "        centers = _get_centers(X, assignments, self_distances)\n",
    "        if centers is centers_old:\n",
    "            break\n",
    "    return centers, assignments"
   ]
  },
  {
   "cell_type": "code",
   "execution_count": 3,
   "metadata": {},
   "outputs": [],
   "source": [
    "class KMedoids():\n",
    "    def __init__(self,n_clusters:int, random_seed:int = 65):\n",
    "        self.n_clusters = n_clusters\n",
    "        self.random_state = np.random.RandomState(random_seed)      \n",
    "        \n",
    "    def fit(self,X):\n",
    "        #X_mean = X.mean(axis=0)\n",
    "        #X -= X_mean\n",
    "        self.distances = pairwise_distances(X, X,metric='cityblock')\n",
    "        self.centers_idx_, self.labels_ = _kmedoid(X=X,\n",
    "                                                   n_clusters = self.n_clusters,\n",
    "                                                   random_state = self.random_state,\n",
    "                                                   self_distances = self.distances)\n",
    "        # reserve data points for consistency \n",
    "        self.cluster_centers_ = X[self.centers_idx_]     \n",
    "        return self\n",
    "    \n",
    "    def fit_predict(self,X):\n",
    "        return self.fit(X).labels_\n",
    "    \n",
    "    def predict(self, X):\n",
    "        #X_mean = X.mean(axis=0)\n",
    "        #X -= X_mean\n",
    "        if self.labels_ is not None:\n",
    "            return predict_labels(X, self.cluster_centers_)"
   ]
  },
  {
   "cell_type": "code",
   "execution_count": 4,
   "metadata": {},
   "outputs": [
    {
     "data": {
      "text/plain": [
       "array([0, 0, 0, 0, 0, 0, 0, 0, 0, 0, 0, 0, 0, 0, 0, 1, 0, 0, 0, 0, 0, 0,\n",
       "       0, 0, 0, 0, 0, 0, 0, 0, 0, 0, 0, 0, 0, 0, 0, 0, 0, 0, 0, 0, 0, 0,\n",
       "       0, 0, 0, 0, 0, 0, 1, 1, 1, 1, 1, 1, 1, 1, 1, 1, 2, 1, 1, 1, 1, 1,\n",
       "       1, 1, 1, 1, 1, 1, 1, 1, 1, 1, 1, 1, 1, 1, 1, 1, 1, 1, 1, 1, 1, 1,\n",
       "       1, 1, 1, 1, 1, 1, 1, 1, 1, 1, 1, 1, 2, 2, 2, 2, 2, 2, 0, 2, 2, 1,\n",
       "       2, 2, 2, 2, 2, 2, 2, 1, 2, 2, 2, 2, 2, 2, 2, 2, 2, 2, 2, 2, 2, 1,\n",
       "       2, 2, 2, 2, 2, 2, 2, 2, 2, 2, 2, 2, 2, 2, 2, 2, 2, 2], dtype=int64)"
      ]
     },
     "execution_count": 4,
     "metadata": {},
     "output_type": "execute_result"
    }
   ],
   "source": [
    "kmedoids = KMedoids(3,23)\n",
    "kmedoids.fit(data).labels_"
   ]
  },
  {
   "cell_type": "code",
   "execution_count": 5,
   "metadata": {},
   "outputs": [
    {
     "data": {
      "image/png": "[encoded data removed]",
      "text/plain": [
       "<matplotlib.figure.Figure at 0x1f5eec68eb8>"
      ]
     },
     "metadata": {
      "needs_background": "light"
     },
     "output_type": "display_data"
    }
   ],
   "source": [
    "kmedoids = KMedoids(2,24)\n",
    "kmedoids.fit(data)\n",
    "plt.figure(figsize=(4, 4))\n",
    "plot_decision_boundaries(kmedoids, data)\n",
    "plt.show()"
   ]
  },
  {
   "cell_type": "code",
   "execution_count": 6,
   "metadata": {},
   "outputs": [
    {
     "data": {
      "image/png": "[encoded data removed]",
      "text/plain": [
       "<matplotlib.figure.Figure at 0x1f5f694bd68>"
      ]
     },
     "metadata": {
      "needs_background": "light"
     },
     "output_type": "display_data"
    }
   ],
   "source": [
    "kmedoids = KMedoids(4,23)\n",
    "kmedoids.fit(data)\n",
    "plt.figure(figsize=(4, 4))\n",
    "plot_decision_boundaries(kmedoids, data)\n",
    "plt.show()"
   ]
  },
  {
   "cell_type": "markdown",
   "metadata": {},
   "source": [
    "# Note\n",
    "\n",
    "When predicting labels, it should calculate the distances between test data points X and centers. \n",
    "\n",
    "It should not call the \\_assign_labels() method which calculates distances of data points already exists in a cluster.\n"
   ]
  }
 ],
 "metadata": {
  "kernelspec": {
   "display_name": "Python 3",
   "language": "python",
   "name": "python3"
  },
  "language_info": {
   "codemirror_mode": {
    "name": "ipython",
    "version": 3
   },
   "file_extension": ".py",
   "mimetype": "text/x-python",
   "name": "python",
   "nbconvert_exporter": "python",
   "pygments_lexer": "ipython3",
   "version": "3.6.6"
  }
 },
 "nbformat": 4,
 "nbformat_minor": 2
}
